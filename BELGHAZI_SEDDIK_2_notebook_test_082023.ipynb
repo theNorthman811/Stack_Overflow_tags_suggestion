{
 "cells": [
  {
   "cell_type": "code",
   "execution_count": 1,
   "id": "470b929f",
   "metadata": {
    "id": "470b929f"
   },
   "outputs": [],
   "source": [
    "import os\n",
    "import pandas as pd\n",
    "subset = pd.read_csv(\"subset.csv\")"
   ]
  },
  {
   "cell_type": "code",
   "execution_count": 3,
   "id": "3CJV46Mh4Dul",
   "metadata": {
    "id": "3CJV46Mh4Dul"
   },
   "outputs": [],
   "source": [
    "import pandas as pd\n",
    "\n",
    "# Group the data by the tags\n",
    "grouped_df = subset.groupby('checked')\n",
    "\n",
    "# Calculate the minimum frequency of tags across all classes\n",
    "min_tag_frequency = grouped_df.size().min()\n",
    "\n",
    "# Ensure that the desired number of rows (1,000) does not exceed the minimum tag frequency\n",
    "num_rows_per_class = min(min_tag_frequency, 5000 // len(grouped_df))\n",
    "\n",
    "# Sample the desired number of rows for each class\n",
    "balanced_data = pd.DataFrame(columns=subset.columns)  # Empty DataFrame to store the balanced subset\n",
    "\n",
    "for tag, group in grouped_df:\n",
    "    sample = group.sample(n=num_rows_per_class, random_state=42)\n",
    "    balanced_data = pd.concat([balanced_data, sample])\n",
    "\n",
    "# Shuffle the rows of the balanced dataset\n",
    "balanced_data = balanced_data.sample(frac=1, random_state=42).reset_index(drop=True)\n"
   ]
  },
  {
   "cell_type": "code",
   "execution_count": 4,
   "id": "ZCnQFprBIty3",
   "metadata": {
    "colab": {
     "base_uri": "https://localhost:8080/",
     "height": 510
    },
    "id": "ZCnQFprBIty3",
    "outputId": "cd61ad5e-4a9d-43db-851d-75ddeba3e76e"
   },
   "outputs": [
    {
     "data": {
      "text/html": [
       "<div>\n",
       "<style scoped>\n",
       "    .dataframe tbody tr th:only-of-type {\n",
       "        vertical-align: middle;\n",
       "    }\n",
       "\n",
       "    .dataframe tbody tr th {\n",
       "        vertical-align: top;\n",
       "    }\n",
       "\n",
       "    .dataframe thead th {\n",
       "        text-align: right;\n",
       "    }\n",
       "</style>\n",
       "<table border=\"1\" class=\"dataframe\">\n",
       "  <thead>\n",
       "    <tr style=\"text-align: right;\">\n",
       "      <th></th>\n",
       "      <th>Id</th>\n",
       "      <th>Title</th>\n",
       "      <th>Body</th>\n",
       "      <th>cleaned_tags</th>\n",
       "      <th>checked</th>\n",
       "      <th>text</th>\n",
       "      <th>text_1</th>\n",
       "    </tr>\n",
       "  </thead>\n",
       "  <tbody>\n",
       "    <tr>\n",
       "      <th>0</th>\n",
       "      <td>1175383</td>\n",
       "      <td>Changing &lt;a&gt; link underline color</td>\n",
       "      <td>I wonder if there is any trick to solve this p...</td>\n",
       "      <td>['css', 'cross-browser']</td>\n",
       "      <td>css</td>\n",
       "      <td>Changing &lt;a&gt; link underline color I wonder if ...</td>\n",
       "      <td>change link underline color wonder trick solve...</td>\n",
       "    </tr>\n",
       "    <tr>\n",
       "      <th>1</th>\n",
       "      <td>150404</td>\n",
       "      <td>What is the easiest way to read/manipulate que...</td>\n",
       "      <td>The examples I've seen online seem much more c...</td>\n",
       "      <td>['javascript', 'query-string']</td>\n",
       "      <td>javascript</td>\n",
       "      <td>What is the easiest way to read/manipulate que...</td>\n",
       "      <td>easy way read manipulate query string param us...</td>\n",
       "    </tr>\n",
       "    <tr>\n",
       "      <th>2</th>\n",
       "      <td>433802</td>\n",
       "      <td>Getting my head around jQuery</td>\n",
       "      <td>OK, I'm designing a site and thought I'd stick...</td>\n",
       "      <td>['javascript', 'jquery']</td>\n",
       "      <td>javascript</td>\n",
       "      <td>Getting my head around jQuery OK, I'm designin...</td>\n",
       "      <td>get head around jquery ok designing site think...</td>\n",
       "    </tr>\n",
       "    <tr>\n",
       "      <th>3</th>\n",
       "      <td>264745</td>\n",
       "      <td>BindingFlags.IgnoreCase not working for Type.G...</td>\n",
       "      <td>Imagine the following\\n\\nA type T has a field ...</td>\n",
       "      <td>['c#', 'reflection', 'getproperty', 'bindingfl...</td>\n",
       "      <td>c#</td>\n",
       "      <td>BindingFlags.IgnoreCase not working for Type.G...</td>\n",
       "      <td>bindingflag ignorecase working type getpropert...</td>\n",
       "    </tr>\n",
       "    <tr>\n",
       "      <th>4</th>\n",
       "      <td>699677</td>\n",
       "      <td>.Net Changes the element IDs</td>\n",
       "      <td>.Net is kindly changing the element ids on my ...</td>\n",
       "      <td>['asp.net']</td>\n",
       "      <td>asp.net</td>\n",
       "      <td>.Net Changes the element IDs .Net is kindly ch...</td>\n",
       "      <td>net change element ids net kindly change eleme...</td>\n",
       "    </tr>\n",
       "    <tr>\n",
       "      <th>...</th>\n",
       "      <td>...</td>\n",
       "      <td>...</td>\n",
       "      <td>...</td>\n",
       "      <td>...</td>\n",
       "      <td>...</td>\n",
       "      <td>...</td>\n",
       "      <td>...</td>\n",
       "    </tr>\n",
       "    <tr>\n",
       "      <th>4995</th>\n",
       "      <td>620226</td>\n",
       "      <td>SQL Server 2005 Memory Pressure and tempdb wri...</td>\n",
       "      <td>We are having some issues with our production ...</td>\n",
       "      <td>['sql-server', 'sql-server-2005', 'performance...</td>\n",
       "      <td>sql-server</td>\n",
       "      <td>SQL Server 2005 Memory Pressure and tempdb wri...</td>\n",
       "      <td>sql server memory pressure tempdb write proble...</td>\n",
       "    </tr>\n",
       "    <tr>\n",
       "      <th>4996</th>\n",
       "      <td>963084</td>\n",
       "      <td>Decomposing a 3d mesh into a 2d net</td>\n",
       "      <td>Suppose you have a 3 dimensional object, repre...</td>\n",
       "      <td>['algorithm', 'graphics', '3d', 'mesh']</td>\n",
       "      <td>algorithm</td>\n",
       "      <td>Decomposing a 3d mesh into a 2d net Suppose yo...</td>\n",
       "      <td>decompose 3d mesh 2d net suppose dimensional o...</td>\n",
       "    </tr>\n",
       "    <tr>\n",
       "      <th>4997</th>\n",
       "      <td>1080523</td>\n",
       "      <td>composing multiple mysql scripts</td>\n",
       "      <td>Is it possible to INCLUDE other mysql scripts ...</td>\n",
       "      <td>['mysql', 'linux', 'scripting']</td>\n",
       "      <td>mysql</td>\n",
       "      <td>composing multiple mysql scripts Is it possibl...</td>\n",
       "      <td>compose multiple mysql script possible include...</td>\n",
       "    </tr>\n",
       "    <tr>\n",
       "      <th>4998</th>\n",
       "      <td>839755</td>\n",
       "      <td>How to use time &gt; year 2038 on official Window...</td>\n",
       "      <td>The official Python 2.5 on Windows was build w...</td>\n",
       "      <td>['python', 'time', 'python-2.5', 'time-t', 'ye...</td>\n",
       "      <td>python</td>\n",
       "      <td>How to use time &gt; year 2038 on official Window...</td>\n",
       "      <td>use time year official windows python official...</td>\n",
       "    </tr>\n",
       "    <tr>\n",
       "      <th>4999</th>\n",
       "      <td>189855</td>\n",
       "      <td>N-ary trees in C</td>\n",
       "      <td>Which would be a neat implemenation of a N-ary...</td>\n",
       "      <td>['c', 'struct', 'n-ary-tree', 'abstract-data-t...</td>\n",
       "      <td>c</td>\n",
       "      <td>N-ary trees in C Which would be a neat impleme...</td>\n",
       "      <td>n ary tree c would neat implemenation n ary tr...</td>\n",
       "    </tr>\n",
       "  </tbody>\n",
       "</table>\n",
       "<p>5000 rows × 7 columns</p>\n",
       "</div>"
      ],
      "text/plain": [
       "           Id                                              Title  \\\n",
       "0     1175383                  Changing <a> link underline color   \n",
       "1      150404  What is the easiest way to read/manipulate que...   \n",
       "2      433802                      Getting my head around jQuery   \n",
       "3      264745  BindingFlags.IgnoreCase not working for Type.G...   \n",
       "4      699677                       .Net Changes the element IDs   \n",
       "...       ...                                                ...   \n",
       "4995   620226  SQL Server 2005 Memory Pressure and tempdb wri...   \n",
       "4996   963084                Decomposing a 3d mesh into a 2d net   \n",
       "4997  1080523                   composing multiple mysql scripts   \n",
       "4998   839755  How to use time > year 2038 on official Window...   \n",
       "4999   189855                                   N-ary trees in C   \n",
       "\n",
       "                                                   Body  \\\n",
       "0     I wonder if there is any trick to solve this p...   \n",
       "1     The examples I've seen online seem much more c...   \n",
       "2     OK, I'm designing a site and thought I'd stick...   \n",
       "3     Imagine the following\\n\\nA type T has a field ...   \n",
       "4     .Net is kindly changing the element ids on my ...   \n",
       "...                                                 ...   \n",
       "4995  We are having some issues with our production ...   \n",
       "4996  Suppose you have a 3 dimensional object, repre...   \n",
       "4997  Is it possible to INCLUDE other mysql scripts ...   \n",
       "4998  The official Python 2.5 on Windows was build w...   \n",
       "4999  Which would be a neat implemenation of a N-ary...   \n",
       "\n",
       "                                           cleaned_tags     checked  \\\n",
       "0                              ['css', 'cross-browser']         css   \n",
       "1                        ['javascript', 'query-string']  javascript   \n",
       "2                              ['javascript', 'jquery']  javascript   \n",
       "3     ['c#', 'reflection', 'getproperty', 'bindingfl...          c#   \n",
       "4                                           ['asp.net']     asp.net   \n",
       "...                                                 ...         ...   \n",
       "4995  ['sql-server', 'sql-server-2005', 'performance...  sql-server   \n",
       "4996            ['algorithm', 'graphics', '3d', 'mesh']   algorithm   \n",
       "4997                    ['mysql', 'linux', 'scripting']       mysql   \n",
       "4998  ['python', 'time', 'python-2.5', 'time-t', 'ye...      python   \n",
       "4999  ['c', 'struct', 'n-ary-tree', 'abstract-data-t...           c   \n",
       "\n",
       "                                                   text  \\\n",
       "0     Changing <a> link underline color I wonder if ...   \n",
       "1     What is the easiest way to read/manipulate que...   \n",
       "2     Getting my head around jQuery OK, I'm designin...   \n",
       "3     BindingFlags.IgnoreCase not working for Type.G...   \n",
       "4     .Net Changes the element IDs .Net is kindly ch...   \n",
       "...                                                 ...   \n",
       "4995  SQL Server 2005 Memory Pressure and tempdb wri...   \n",
       "4996  Decomposing a 3d mesh into a 2d net Suppose yo...   \n",
       "4997  composing multiple mysql scripts Is it possibl...   \n",
       "4998  How to use time > year 2038 on official Window...   \n",
       "4999  N-ary trees in C Which would be a neat impleme...   \n",
       "\n",
       "                                                 text_1  \n",
       "0     change link underline color wonder trick solve...  \n",
       "1     easy way read manipulate query string param us...  \n",
       "2     get head around jquery ok designing site think...  \n",
       "3     bindingflag ignorecase working type getpropert...  \n",
       "4     net change element ids net kindly change eleme...  \n",
       "...                                                 ...  \n",
       "4995  sql server memory pressure tempdb write proble...  \n",
       "4996  decompose 3d mesh 2d net suppose dimensional o...  \n",
       "4997  compose multiple mysql script possible include...  \n",
       "4998  use time year official windows python official...  \n",
       "4999  n ary tree c would neat implemenation n ary tr...  \n",
       "\n",
       "[5000 rows x 7 columns]"
      ]
     },
     "execution_count": 4,
     "metadata": {},
     "output_type": "execute_result"
    }
   ],
   "source": [
    "balanced_data"
   ]
  },
  {
   "cell_type": "code",
   "execution_count": 5,
   "id": "8982b166",
   "metadata": {
    "id": "8982b166"
   },
   "outputs": [],
   "source": [
    "def one_hot_encode_subset(dataframe, tags_list):\n",
    "    # Get the 'checked' column from the DataFrame as a list\n",
    "    subset_labels = dataframe['checked'].tolist()\n",
    "\n",
    "    # Create a set of all unique tags\n",
    "    all_tags = set(tag[0] for tag in tags_list)\n",
    "\n",
    "    # Create a dictionary to map tags to unique indices\n",
    "    tag_to_index = {tag: i for i, tag in enumerate(all_tags)}\n",
    "\n",
    "    # One-hot encode the subset column\n",
    "    one_hot_encoded_subset = pd.get_dummies(subset_labels)\n",
    "\n",
    "    # Reorder the columns to match the tags_list order\n",
    "    one_hot_encoded_subset = one_hot_encoded_subset[[tag[0] for tag in tags_list]]\n",
    "\n",
    "    return one_hot_encoded_subset"
   ]
  },
  {
   "cell_type": "code",
   "execution_count": 6,
   "id": "cgjhJ6VKI_Bs",
   "metadata": {
    "id": "cgjhJ6VKI_Bs"
   },
   "outputs": [],
   "source": [
    "tags_list = [['c#'],\n",
    "             ['java'],\n",
    "             ['.net'],\n",
    "             ['c++'],\n",
    "             ['python'],\n",
    "             ['javascript'],\n",
    "             ['php'],\n",
    "             ['asp.net'],\n",
    "             ['sql'],\n",
    "             ['c'],\n",
    "             ['html'],\n",
    "             ['sql-server'],\n",
    "             ['jquery'],\n",
    "             ['windows'],\n",
    "             ['css'],\n",
    "             ['iphone'],\n",
    "             ['performance'],\n",
    "             ['mysql'],\n",
    "             ['algorithm'],\n",
    "             ['visual-studio']]\n",
    "one_hot_encoded_subset = one_hot_encode_subset(balanced_data, tags_list)"
   ]
  },
  {
   "cell_type": "code",
   "execution_count": 7,
   "id": "-Vfk_cp2JNDT",
   "metadata": {
    "colab": {
     "base_uri": "https://localhost:8080/",
     "height": 423
    },
    "id": "-Vfk_cp2JNDT",
    "outputId": "5f71a273-eb4c-405d-97dd-dfe04e710826"
   },
   "outputs": [
    {
     "data": {
      "text/html": [
       "<div>\n",
       "<style scoped>\n",
       "    .dataframe tbody tr th:only-of-type {\n",
       "        vertical-align: middle;\n",
       "    }\n",
       "\n",
       "    .dataframe tbody tr th {\n",
       "        vertical-align: top;\n",
       "    }\n",
       "\n",
       "    .dataframe thead th {\n",
       "        text-align: right;\n",
       "    }\n",
       "</style>\n",
       "<table border=\"1\" class=\"dataframe\">\n",
       "  <thead>\n",
       "    <tr style=\"text-align: right;\">\n",
       "      <th></th>\n",
       "      <th>c#</th>\n",
       "      <th>java</th>\n",
       "      <th>.net</th>\n",
       "      <th>c++</th>\n",
       "      <th>python</th>\n",
       "      <th>javascript</th>\n",
       "      <th>php</th>\n",
       "      <th>asp.net</th>\n",
       "      <th>sql</th>\n",
       "      <th>c</th>\n",
       "      <th>html</th>\n",
       "      <th>sql-server</th>\n",
       "      <th>jquery</th>\n",
       "      <th>windows</th>\n",
       "      <th>css</th>\n",
       "      <th>iphone</th>\n",
       "      <th>performance</th>\n",
       "      <th>mysql</th>\n",
       "      <th>algorithm</th>\n",
       "      <th>visual-studio</th>\n",
       "    </tr>\n",
       "  </thead>\n",
       "  <tbody>\n",
       "    <tr>\n",
       "      <th>0</th>\n",
       "      <td>0</td>\n",
       "      <td>0</td>\n",
       "      <td>0</td>\n",
       "      <td>0</td>\n",
       "      <td>0</td>\n",
       "      <td>0</td>\n",
       "      <td>0</td>\n",
       "      <td>0</td>\n",
       "      <td>0</td>\n",
       "      <td>0</td>\n",
       "      <td>0</td>\n",
       "      <td>0</td>\n",
       "      <td>0</td>\n",
       "      <td>0</td>\n",
       "      <td>1</td>\n",
       "      <td>0</td>\n",
       "      <td>0</td>\n",
       "      <td>0</td>\n",
       "      <td>0</td>\n",
       "      <td>0</td>\n",
       "    </tr>\n",
       "    <tr>\n",
       "      <th>1</th>\n",
       "      <td>0</td>\n",
       "      <td>0</td>\n",
       "      <td>0</td>\n",
       "      <td>0</td>\n",
       "      <td>0</td>\n",
       "      <td>1</td>\n",
       "      <td>0</td>\n",
       "      <td>0</td>\n",
       "      <td>0</td>\n",
       "      <td>0</td>\n",
       "      <td>0</td>\n",
       "      <td>0</td>\n",
       "      <td>0</td>\n",
       "      <td>0</td>\n",
       "      <td>0</td>\n",
       "      <td>0</td>\n",
       "      <td>0</td>\n",
       "      <td>0</td>\n",
       "      <td>0</td>\n",
       "      <td>0</td>\n",
       "    </tr>\n",
       "    <tr>\n",
       "      <th>2</th>\n",
       "      <td>0</td>\n",
       "      <td>0</td>\n",
       "      <td>0</td>\n",
       "      <td>0</td>\n",
       "      <td>0</td>\n",
       "      <td>1</td>\n",
       "      <td>0</td>\n",
       "      <td>0</td>\n",
       "      <td>0</td>\n",
       "      <td>0</td>\n",
       "      <td>0</td>\n",
       "      <td>0</td>\n",
       "      <td>0</td>\n",
       "      <td>0</td>\n",
       "      <td>0</td>\n",
       "      <td>0</td>\n",
       "      <td>0</td>\n",
       "      <td>0</td>\n",
       "      <td>0</td>\n",
       "      <td>0</td>\n",
       "    </tr>\n",
       "    <tr>\n",
       "      <th>3</th>\n",
       "      <td>1</td>\n",
       "      <td>0</td>\n",
       "      <td>0</td>\n",
       "      <td>0</td>\n",
       "      <td>0</td>\n",
       "      <td>0</td>\n",
       "      <td>0</td>\n",
       "      <td>0</td>\n",
       "      <td>0</td>\n",
       "      <td>0</td>\n",
       "      <td>0</td>\n",
       "      <td>0</td>\n",
       "      <td>0</td>\n",
       "      <td>0</td>\n",
       "      <td>0</td>\n",
       "      <td>0</td>\n",
       "      <td>0</td>\n",
       "      <td>0</td>\n",
       "      <td>0</td>\n",
       "      <td>0</td>\n",
       "    </tr>\n",
       "    <tr>\n",
       "      <th>4</th>\n",
       "      <td>0</td>\n",
       "      <td>0</td>\n",
       "      <td>0</td>\n",
       "      <td>0</td>\n",
       "      <td>0</td>\n",
       "      <td>0</td>\n",
       "      <td>0</td>\n",
       "      <td>1</td>\n",
       "      <td>0</td>\n",
       "      <td>0</td>\n",
       "      <td>0</td>\n",
       "      <td>0</td>\n",
       "      <td>0</td>\n",
       "      <td>0</td>\n",
       "      <td>0</td>\n",
       "      <td>0</td>\n",
       "      <td>0</td>\n",
       "      <td>0</td>\n",
       "      <td>0</td>\n",
       "      <td>0</td>\n",
       "    </tr>\n",
       "    <tr>\n",
       "      <th>...</th>\n",
       "      <td>...</td>\n",
       "      <td>...</td>\n",
       "      <td>...</td>\n",
       "      <td>...</td>\n",
       "      <td>...</td>\n",
       "      <td>...</td>\n",
       "      <td>...</td>\n",
       "      <td>...</td>\n",
       "      <td>...</td>\n",
       "      <td>...</td>\n",
       "      <td>...</td>\n",
       "      <td>...</td>\n",
       "      <td>...</td>\n",
       "      <td>...</td>\n",
       "      <td>...</td>\n",
       "      <td>...</td>\n",
       "      <td>...</td>\n",
       "      <td>...</td>\n",
       "      <td>...</td>\n",
       "      <td>...</td>\n",
       "    </tr>\n",
       "    <tr>\n",
       "      <th>4995</th>\n",
       "      <td>0</td>\n",
       "      <td>0</td>\n",
       "      <td>0</td>\n",
       "      <td>0</td>\n",
       "      <td>0</td>\n",
       "      <td>0</td>\n",
       "      <td>0</td>\n",
       "      <td>0</td>\n",
       "      <td>0</td>\n",
       "      <td>0</td>\n",
       "      <td>0</td>\n",
       "      <td>1</td>\n",
       "      <td>0</td>\n",
       "      <td>0</td>\n",
       "      <td>0</td>\n",
       "      <td>0</td>\n",
       "      <td>0</td>\n",
       "      <td>0</td>\n",
       "      <td>0</td>\n",
       "      <td>0</td>\n",
       "    </tr>\n",
       "    <tr>\n",
       "      <th>4996</th>\n",
       "      <td>0</td>\n",
       "      <td>0</td>\n",
       "      <td>0</td>\n",
       "      <td>0</td>\n",
       "      <td>0</td>\n",
       "      <td>0</td>\n",
       "      <td>0</td>\n",
       "      <td>0</td>\n",
       "      <td>0</td>\n",
       "      <td>0</td>\n",
       "      <td>0</td>\n",
       "      <td>0</td>\n",
       "      <td>0</td>\n",
       "      <td>0</td>\n",
       "      <td>0</td>\n",
       "      <td>0</td>\n",
       "      <td>0</td>\n",
       "      <td>0</td>\n",
       "      <td>1</td>\n",
       "      <td>0</td>\n",
       "    </tr>\n",
       "    <tr>\n",
       "      <th>4997</th>\n",
       "      <td>0</td>\n",
       "      <td>0</td>\n",
       "      <td>0</td>\n",
       "      <td>0</td>\n",
       "      <td>0</td>\n",
       "      <td>0</td>\n",
       "      <td>0</td>\n",
       "      <td>0</td>\n",
       "      <td>0</td>\n",
       "      <td>0</td>\n",
       "      <td>0</td>\n",
       "      <td>0</td>\n",
       "      <td>0</td>\n",
       "      <td>0</td>\n",
       "      <td>0</td>\n",
       "      <td>0</td>\n",
       "      <td>0</td>\n",
       "      <td>1</td>\n",
       "      <td>0</td>\n",
       "      <td>0</td>\n",
       "    </tr>\n",
       "    <tr>\n",
       "      <th>4998</th>\n",
       "      <td>0</td>\n",
       "      <td>0</td>\n",
       "      <td>0</td>\n",
       "      <td>0</td>\n",
       "      <td>1</td>\n",
       "      <td>0</td>\n",
       "      <td>0</td>\n",
       "      <td>0</td>\n",
       "      <td>0</td>\n",
       "      <td>0</td>\n",
       "      <td>0</td>\n",
       "      <td>0</td>\n",
       "      <td>0</td>\n",
       "      <td>0</td>\n",
       "      <td>0</td>\n",
       "      <td>0</td>\n",
       "      <td>0</td>\n",
       "      <td>0</td>\n",
       "      <td>0</td>\n",
       "      <td>0</td>\n",
       "    </tr>\n",
       "    <tr>\n",
       "      <th>4999</th>\n",
       "      <td>0</td>\n",
       "      <td>0</td>\n",
       "      <td>0</td>\n",
       "      <td>0</td>\n",
       "      <td>0</td>\n",
       "      <td>0</td>\n",
       "      <td>0</td>\n",
       "      <td>0</td>\n",
       "      <td>0</td>\n",
       "      <td>1</td>\n",
       "      <td>0</td>\n",
       "      <td>0</td>\n",
       "      <td>0</td>\n",
       "      <td>0</td>\n",
       "      <td>0</td>\n",
       "      <td>0</td>\n",
       "      <td>0</td>\n",
       "      <td>0</td>\n",
       "      <td>0</td>\n",
       "      <td>0</td>\n",
       "    </tr>\n",
       "  </tbody>\n",
       "</table>\n",
       "<p>5000 rows × 20 columns</p>\n",
       "</div>"
      ],
      "text/plain": [
       "      c#  java  .net  c++  python  javascript  php  asp.net  sql  c  html  \\\n",
       "0      0     0     0    0       0           0    0        0    0  0     0   \n",
       "1      0     0     0    0       0           1    0        0    0  0     0   \n",
       "2      0     0     0    0       0           1    0        0    0  0     0   \n",
       "3      1     0     0    0       0           0    0        0    0  0     0   \n",
       "4      0     0     0    0       0           0    0        1    0  0     0   \n",
       "...   ..   ...   ...  ...     ...         ...  ...      ...  ... ..   ...   \n",
       "4995   0     0     0    0       0           0    0        0    0  0     0   \n",
       "4996   0     0     0    0       0           0    0        0    0  0     0   \n",
       "4997   0     0     0    0       0           0    0        0    0  0     0   \n",
       "4998   0     0     0    0       1           0    0        0    0  0     0   \n",
       "4999   0     0     0    0       0           0    0        0    0  1     0   \n",
       "\n",
       "      sql-server  jquery  windows  css  iphone  performance  mysql  algorithm  \\\n",
       "0              0       0        0    1       0            0      0          0   \n",
       "1              0       0        0    0       0            0      0          0   \n",
       "2              0       0        0    0       0            0      0          0   \n",
       "3              0       0        0    0       0            0      0          0   \n",
       "4              0       0        0    0       0            0      0          0   \n",
       "...          ...     ...      ...  ...     ...          ...    ...        ...   \n",
       "4995           1       0        0    0       0            0      0          0   \n",
       "4996           0       0        0    0       0            0      0          1   \n",
       "4997           0       0        0    0       0            0      1          0   \n",
       "4998           0       0        0    0       0            0      0          0   \n",
       "4999           0       0        0    0       0            0      0          0   \n",
       "\n",
       "      visual-studio  \n",
       "0                 0  \n",
       "1                 0  \n",
       "2                 0  \n",
       "3                 0  \n",
       "4                 0  \n",
       "...             ...  \n",
       "4995              0  \n",
       "4996              0  \n",
       "4997              0  \n",
       "4998              0  \n",
       "4999              0  \n",
       "\n",
       "[5000 rows x 20 columns]"
      ]
     },
     "execution_count": 7,
     "metadata": {},
     "output_type": "execute_result"
    }
   ],
   "source": [
    "one_hot_encoded_subset"
   ]
  },
  {
   "cell_type": "code",
   "execution_count": 8,
   "id": "sbwpDfVY3YfF",
   "metadata": {
    "id": "sbwpDfVY3YfF"
   },
   "outputs": [],
   "source": [
    "import numpy as np\n",
    "\n",
    "def show_non_predicted_tags(model_name, y_pred_labels):\n",
    "    \"\"\"\n",
    "    Calculate the percentage of non-tagged questions for a given model.\n",
    "\n",
    "    Args:\n",
    "        model_name (str): Name of the model.\n",
    "        y_pred_labels (numpy array): Predicted labels.\n",
    "\n",
    "    Returns:\n",
    "        null_rate (float): Percentage of non-tagged questions for the model.\n",
    "    \"\"\"\n",
    "    y_pred_labels_2d = y_pred_labels.reshape(-1, 1)  # Reshape to 2D array\n",
    "    Tags_per_row = y_pred_labels_2d.sum(axis=1)\n",
    "    null_rate = round(((Tags_per_row.size - np.count_nonzero(Tags_per_row))\n",
    "                      / Tags_per_row.size) * 100, 2)\n",
    "\n",
    "    print(\"-\" * 50)\n",
    "    print(\"Percentage of non-tagged questions for {} model\".format(model_name))\n",
    "    print(\"-\" * 50)\n",
    "    print(\"{}: {}%\".format(model_name, null_rate))\n",
    "    print()\n",
    "\n",
    "    return null_rate\n"
   ]
  },
  {
   "cell_type": "code",
   "execution_count": 26,
   "id": "0G6DejmSDZvx",
   "metadata": {
    "id": "0G6DejmSDZvx"
   },
   "outputs": [],
   "source": [
    "import matplotlib.pyplot as plt\n",
    "import seaborn as sns\n",
    "\n",
    "def plot_metrics_scores(model_name, metrics_scores):\n",
    "    # Create a figure and axis\n",
    "    plt.figure(figsize=(10, 6))\n",
    "    ax = plt.gca()\n",
    "\n",
    "    # Plot the metrics scores\n",
    "    sns.barplot(x=list(metrics_scores.keys()), y=list(metrics_scores.values()), ax=ax)\n",
    "\n",
    "    # Set the labels and title\n",
    "    plt.xlabel(\"Metrics\")\n",
    "    plt.ylabel(\"Score\")\n",
    "    plt.title(f\"classification performance of {model_name}\")\n",
    "\n",
    "    # Add text annotations for the metrics scores\n",
    "    for i, v in enumerate(metrics_scores.values()):\n",
    "        ax.text(i, v, f\"{v:.3f}\", ha='center', va='bottom')\n",
    "\n",
    "    # Show the plot\n",
    "    plt.tight_layout()\n",
    "    plt.show()\n"
   ]
  },
  {
   "cell_type": "code",
   "execution_count": 27,
   "id": "PeznwrYQDbCB",
   "metadata": {
    "id": "PeznwrYQDbCB"
   },
   "outputs": [],
   "source": [
    "import matplotlib.pyplot as plt\n",
    "\n",
    "def plot_non_tagged_percentage(percentage_non_tagged):\n",
    "    # Create a figure and axis\n",
    "    plt.figure(figsize=(6, 6))\n",
    "    ax = plt.gca()\n",
    "\n",
    "    # Define the labels and sizes for the pie chart\n",
    "    labels = ['Non-tagged', 'Tagged']\n",
    "    sizes = [percentage_non_tagged, 100 - percentage_non_tagged]\n",
    "\n",
    "    # Plot the pie chart\n",
    "    ax.pie(sizes, labels=labels, autopct='%1.1f%%', startangle=90)\n",
    "\n",
    "    # Set the title\n",
    "    plt.title(\"Percentage of Non-tagged Questions \")\n",
    "\n",
    "    # Show the plot\n",
    "    plt.tight_layout()\n",
    "    plt.show()\n"
   ]
  },
  {
   "cell_type": "code",
   "execution_count": 10,
   "id": "koLgh-vLV1Qb",
   "metadata": {
    "id": "koLgh-vLV1Qb"
   },
   "outputs": [],
   "source": [
    "from sklearn.model_selection import train_test_split\n",
    "# Load and preprocess the data\n",
    "X_train, X_test, y_train, y_test = train_test_split(balanced_data['text_1'], one_hot_encoded_subset, test_size=0.1, random_state=42)"
   ]
  },
  {
   "cell_type": "code",
   "execution_count": 11,
   "id": "x2v7fgl1Df86",
   "metadata": {
    "id": "x2v7fgl1Df86"
   },
   "outputs": [],
   "source": [
    "# Convert y_train to 1D array of integers\n",
    "y_train_labels = np.argmax(y_train.values, axis=1)\n",
    "y_test_labels = np.argmax(y_test.values, axis=1)"
   ]
  },
  {
   "cell_type": "markdown",
   "id": "DjkV3VWPVPIc",
   "metadata": {
    "id": "DjkV3VWPVPIc"
   },
   "source": [
    "# n-grammes with SVM"
   ]
  },
  {
   "cell_type": "markdown",
   "id": "_gDWRY3jXt_4",
   "metadata": {
    "id": "_gDWRY3jXt_4"
   },
   "source": [
    "L’approche présentée ci-dessus ne tient pas compte de l’ordre des mots. Chaque phrase est convertie en un sac de mots (ou bag of words). Il est néanmoins possible de tenir compte de séquence plus ou moins longue."
   ]
  },
  {
   "cell_type": "code",
   "execution_count": null,
   "id": "RKzHe7skUCcY",
   "metadata": {
    "colab": {
     "base_uri": "https://localhost:8080/"
    },
    "id": "RKzHe7skUCcY",
    "outputId": "649206f9-b2b6-4c83-ece8-1985ce000a45"
   },
   "outputs": [
    {
     "name": "stderr",
     "output_type": "stream",
     "text": [
      "[nltk_data] Downloading package punkt to /root/nltk_data...\n",
      "[nltk_data]   Unzipping tokenizers/punkt.zip.\n"
     ]
    },
    {
     "data": {
      "text/plain": [
       "True"
      ]
     },
     "execution_count": 1,
     "metadata": {},
     "output_type": "execute_result"
    }
   ],
   "source": [
    " import nltk\n",
    "nltk.download('punkt')"
   ]
  },
  {
   "cell_type": "code",
   "execution_count": null,
   "id": "Hg8lfAagUddr",
   "metadata": {
    "colab": {
     "base_uri": "https://localhost:8080/"
    },
    "id": "Hg8lfAagUddr",
    "outputId": "f02ac265-92c1-43f9-f36f-ac0196fdc878"
   },
   "outputs": [
    {
     "data": {
      "text/plain": [
       "(5382, 266154)"
      ]
     },
     "execution_count": 19,
     "metadata": {},
     "output_type": "execute_result"
    }
   ],
   "source": [
    "from sklearn.feature_extraction.text import CountVectorizer, TfidfTransformer\n",
    "from sklearn.pipeline import make_pipeline\n",
    "pipe = make_pipeline(CountVectorizer(ngram_range=(1, 2)),\n",
    "                      TfidfTransformer())\n",
    "pipe.fit(X_train)\n",
    "feat_train1 = pipe.transform(X_train)\n",
    "feat_train1.shape"
   ]
  },
  {
   "cell_type": "code",
   "execution_count": null,
   "id": "EAgtMi4dWT-C",
   "metadata": {
    "id": "EAgtMi4dWT-C"
   },
   "outputs": [],
   "source": [
    "feat_test = pipe.transform(X_test)"
   ]
  },
  {
   "cell_type": "code",
   "execution_count": null,
   "id": "yPVx5dnNOu7h",
   "metadata": {
    "colab": {
     "base_uri": "https://localhost:8080/"
    },
    "id": "yPVx5dnNOu7h",
    "outputId": "db74b91c-c864-45f3-c97c-bddd295df97f"
   },
   "outputs": [
    {
     "name": "stdout",
     "output_type": "stream",
     "text": [
      "Fitting 2 folds for each of 18 candidates, totalling 36 fits\n",
      "GridSearchCV Execution Time: 196.94733452796936 seconds\n"
     ]
    }
   ],
   "source": [
    "import pickle\n",
    "from sklearn.model_selection import GridSearchCV\n",
    "from sklearn.svm import LinearSVC\n",
    "from sklearn.multiclass import OneVsRestClassifier\n",
    "\n",
    "# Initialize LinearSVC with OneVsRest\n",
    "param_svc = {\n",
    "    \"estimator__C\": [0.1, 1.0, 10.0],\n",
    "    \"estimator__penalty\": [\"l1\", \"l2\"],\n",
    "    \"estimator__dual\": [False],\n",
    "    \"estimator__loss\": [\"squared_hinge\"],\n",
    "    \"estimator__max_iter\": [1000, 2000, 5000]\n",
    "}\n",
    "\n",
    "multi_svc_cv = GridSearchCV(\n",
    "    OneVsRestClassifier(LinearSVC(max_iter=1000)),\n",
    "    param_grid=param_svc,\n",
    "    n_jobs=-1,\n",
    "    cv=2,\n",
    "    scoring=\"f1_weighted\",\n",
    "    return_train_score=True,\n",
    "    refit=True,\n",
    "    verbose=3\n",
    ")\n",
    "# Record the start time\n",
    "start_time = time.time()\n",
    "\n",
    "multi_svc_cv.fit(feat_train1, y_train_labels)\n",
    "# Calculate the time of execution\n",
    "end_time = time.time()\n",
    "execution_time = end_time - start_time\n",
    "print(f\"GridSearchCV Execution Time: {execution_time} seconds\")"
   ]
  },
  {
   "cell_type": "code",
   "execution_count": null,
   "id": "sZ_6WAOGXvjj",
   "metadata": {
    "id": "sZ_6WAOGXvjj"
   },
   "outputs": [],
   "source": [
    "# Save the best model with pickle\n",
    "best_svc_model = multi_svc_cv.best_estimator_\n",
    "with open(\"best_model_svc.pkl\", \"wb\") as f:\n",
    "    pickle.dump(best_svc_model, f)"
   ]
  },
  {
   "cell_type": "code",
   "execution_count": null,
   "id": "fkITk587U4EU",
   "metadata": {
    "colab": {
     "base_uri": "https://localhost:8080/"
    },
    "id": "fkITk587U4EU",
    "outputId": "ba8d4d13-5f26-4ddc-aa41-2365867921c7"
   },
   "outputs": [
    {
     "name": "stdout",
     "output_type": "stream",
     "text": [
      "Fitting 2 folds for each of 18 candidates, totalling 36 fits\n",
      "GridSearchCV Execution Time: 54.30985116958618 seconds\n"
     ]
    }
   ],
   "source": [
    "import pickle\n",
    "from sklearn.model_selection import GridSearchCV\n",
    "from sklearn.svm import LinearSVC\n",
    "from sklearn.multiclass import OneVsRestClassifier\n",
    "\n",
    "# Initialize LinearSVC with OneVsRest\n",
    "param_svc = {\n",
    "    \"estimator__C\": [0.1, 1.0, 10.0],\n",
    "    \"estimator__penalty\": [\"l1\", \"l2\"],\n",
    "    \"estimator__dual\": [False],\n",
    "    \"estimator__loss\": [\"squared_hinge\"],\n",
    "    \"estimator__max_iter\": [1000, 2000, 5000]\n",
    "}\n",
    "\n",
    "multi_svc_cv = GridSearchCV(\n",
    "    OneVsRestClassifier(LinearSVC(max_iter=1000)),\n",
    "    param_grid=param_svc,\n",
    "    n_jobs=-1,\n",
    "    cv=2,\n",
    "    scoring=\"f1_weighted\",\n",
    "    return_train_score=True,\n",
    "    refit=True,\n",
    "    verbose=3\n",
    ")\n",
    "# Record the start time\n",
    "start_time = time.time()\n",
    "\n",
    "multi_svc_cv.fit(feat_train1, y_train_labels)\n",
    "# Calculate the time of execution\n",
    "end_time = time.time()\n",
    "execution_time = end_time - start_time\n",
    "print(f\"GridSearchCV Execution Time: {execution_time} seconds\")"
   ]
  },
  {
   "cell_type": "code",
   "execution_count": null,
   "id": "sJHXIrS6WYUy",
   "metadata": {
    "colab": {
     "base_uri": "https://localhost:8080/"
    },
    "id": "sJHXIrS6WYUy",
    "outputId": "6c651b12-0f4e-4db8-cc67-bcb8abb9bf3f"
   },
   "outputs": [
    {
     "name": "stdout",
     "output_type": "stream",
     "text": [
      "Weighted F1 Score: 0.6971065791986121\n",
      "Weighted Jaccard Coefficient: 0.5587073726524067\n",
      "Accuracy: 0.7073578595317725\n",
      "Weighted Recall: 0.7073578595317725\n",
      "Weighted Precision: 0.7018927926463067\n"
     ]
    }
   ],
   "source": [
    "best_svc_model = multi_svc_cv.best_estimator_\n",
    "from sklearn.metrics import f1_score, jaccard_score, accuracy_score, recall_score, precision_score\n",
    "y_pred_labels = best_svc_model.predict(feat_test)\n",
    "y_test_labels = np.argmax(y_test.values, axis=1)\n",
    "# Calculate metrics\n",
    "f1 = f1_score(y_test_labels, y_pred_labels, average='weighted')\n",
    "jaccard = jaccard_score(y_test_labels, y_pred_labels, average='weighted')\n",
    "accuracy = accuracy_score(y_test_labels, y_pred_labels)\n",
    "recall = recall_score(y_test_labels, y_pred_labels, average='weighted')\n",
    "precision = precision_score(y_test_labels, y_pred_labels, average='weighted')\n",
    "\n",
    "# Print metrics\n",
    "print('Weighted F1 Score:', f1)\n",
    "print('Weighted Jaccard Coefficient:', jaccard)\n",
    "print('Accuracy:', accuracy)\n",
    "print('Weighted Recall:', recall)\n",
    "print('Weighted Precision:', precision)"
   ]
  },
  {
   "cell_type": "code",
   "execution_count": null,
   "id": "ZwmqJmcIXLF8",
   "metadata": {
    "colab": {
     "base_uri": "https://localhost:8080/"
    },
    "id": "ZwmqJmcIXLF8",
    "outputId": "c43a46ce-40f0-4532-b03d-642121471459"
   },
   "outputs": [
    {
     "name": "stdout",
     "output_type": "stream",
     "text": [
      "--------------------------------------------------\n",
      "Percentage of non-tagged questions for N grammes and SVM model\n",
      "--------------------------------------------------\n",
      "N grammes and SVM: 3.01%\n",
      "\n"
     ]
    },
    {
     "data": {
      "text/plain": [
       "3.01"
      ]
     },
     "execution_count": 66,
     "metadata": {},
     "output_type": "execute_result"
    }
   ],
   "source": [
    "# Assuming you have y_test_labels and y_pred_labels\n",
    "show_non_predicted_tags('N grammes and SVM', y_pred_labels)"
   ]
  },
  {
   "cell_type": "code",
   "execution_count": null,
   "id": "UEJBXMfBYSdz",
   "metadata": {
    "colab": {
     "base_uri": "https://localhost:8080/"
    },
    "id": "UEJBXMfBYSdz",
    "outputId": "6d6782b6-1df4-4d72-919b-1b2a46b3434b"
   },
   "outputs": [
    {
     "name": "stdout",
     "output_type": "stream",
     "text": [
      "Predicted Tags\tTrue Tags\n",
      "-----------------------------\n",
      "algorithm\t\talgorithm\n",
      "iphone\t\tiphone\n",
      "javascript\t\tjavascript\n",
      "html\t\tpython\n",
      "visual-studio\t\tvisual-studio\n",
      "algorithm\t\talgorithm\n",
      "html\t\thtml\n",
      "sql-server\t\tsql-server\n",
      "python\t\tpython\n",
      "java\t\tjava\n",
      "html\t\thtml\n",
      "c\t\tc++\n",
      "javascript\t\tjavascript\n",
      "performance\t\tperformance\n",
      "algorithm\t\talgorithm\n",
      "php\t\tphp\n",
      "iphone\t\tiphone\n",
      "sql-server\t\t.net\n",
      "asp.net\t\tasp.net\n",
      "php\t\tphp\n"
     ]
    }
   ],
   "source": [
    "print(\"Predicted Tags\\tTrue Tags\")\n",
    "print(\"-----------------------------\")\n",
    "for i in range(20):\n",
    "    predicted_tag = tags_list[y_pred_labels[i]][0]\n",
    "    true_tag = tags_list[y_test_labels[i]][0]\n",
    "    print(f\"{predicted_tag}\\t\\t{true_tag}\")"
   ]
  },
  {
   "cell_type": "code",
   "execution_count": 28,
   "id": "_yp5Dm1ZDujB",
   "metadata": {
    "id": "_yp5Dm1ZDujB"
   },
   "outputs": [],
   "source": [
    "model_name = \"n-grammes with SVM\"\n",
    "metrics_scores = {\n",
    "    \"Weighted F1 Score\": 0.6971065791986121,\n",
    "    \"Weighted Jaccard Coefficient\": 0.5587073726524067,\n",
    "    \"Accuracy\": 0.7073578595317725,\n",
    "    \"Weighted Recall\": 0.7073578595317725,\n",
    "    \"Weighted Precision\": 0.7018927926463067\n",
    "}\n",
    "\n",
    "percentage_non_tagged = 3.01"
   ]
  },
  {
   "cell_type": "code",
   "execution_count": 29,
   "id": "MsTNCQIaDvcR",
   "metadata": {
    "colab": {
     "base_uri": "https://localhost:8080/",
     "height": 607
    },
    "id": "MsTNCQIaDvcR",
    "outputId": "7fe8a669-87fe-4bb7-a20e-c47ddacf12f8"
   },
   "outputs": [
    {
     "data": {
      "image/png": "[encoded data removed]",
      "text/plain": [
       "<Figure size 1000x600 with 1 Axes>"
      ]
     },
     "metadata": {},
     "output_type": "display_data"
    }
   ],
   "source": [
    "plot_metrics_scores(model_name, metrics_scores)"
   ]
  },
  {
   "cell_type": "code",
   "execution_count": 30,
   "id": "1qObanidDyMJ",
   "metadata": {
    "colab": {
     "base_uri": "https://localhost:8080/",
     "height": 607
    },
    "id": "1qObanidDyMJ",
    "outputId": "ab750fe1-4311-4953-a7a7-628197c87331"
   },
   "outputs": [
    {
     "data": {
      "image/png": "[encoded data removed]",
      "text/plain": [
       "<Figure size 600x600 with 1 Axes>"
      ]
     },
     "metadata": {},
     "output_type": "display_data"
    }
   ],
   "source": [
    "percentage_non_tagged = 3.01\n",
    "plot_non_tagged_percentage(percentage_non_tagged)"
   ]
  },
  {
   "cell_type": "markdown",
   "id": "2zL2spbDZmaY",
   "metadata": {
    "id": "2zL2spbDZmaY"
   },
   "source": [
    "# Réduire les dimensions avec TruncatedSVD"
   ]
  },
  {
   "cell_type": "markdown",
   "id": "twC9h7EQZx86",
   "metadata": {
    "id": "twC9h7EQZx86"
   },
   "source": [
    "C’est un moyen fréquemment utilisé pour réduire les dimensions. On choisit le modèle TruncatedSVD plutôt que l’ACP dont l’implémentation ne supporte pas les features sparses."
   ]
  },
  {
   "cell_type": "code",
   "execution_count": null,
   "id": "eZeGmWGOZ6CL",
   "metadata": {
    "colab": {
     "base_uri": "https://localhost:8080/"
    },
    "id": "eZeGmWGOZ6CL",
    "outputId": "c07d0912-d534-4726-fbc7-4f5af2bd01df"
   },
   "outputs": [
    {
     "data": {
      "text/plain": [
       "(5382, 300)"
      ]
     },
     "execution_count": 29,
     "metadata": {},
     "output_type": "execute_result"
    }
   ],
   "source": [
    "from sklearn.decomposition import TruncatedSVD\n",
    "pipe_svd = make_pipeline(CountVectorizer(), TruncatedSVD(n_components=300))\n",
    "pipe_svd.fit(X_train)\n",
    "feat_train_svd = pipe_svd.transform(X_train)\n",
    "feat_train_svd.shape"
   ]
  },
  {
   "cell_type": "code",
   "execution_count": null,
   "id": "9XnQubzyTnL0",
   "metadata": {
    "colab": {
     "base_uri": "https://localhost:8080/"
    },
    "id": "9XnQubzyTnL0",
    "outputId": "43caaaed-4399-45b1-d597-27819d398d3d"
   },
   "outputs": [
    {
     "data": {
      "text/plain": [
       "(5382, 300)"
      ]
     },
     "execution_count": 33,
     "metadata": {},
     "output_type": "execute_result"
    }
   ],
   "source": [
    "from sklearn.decomposition import TruncatedSVD\n",
    "pipe_svd = make_pipeline(CountVectorizer(), TruncatedSVD(n_components=300))\n",
    "pipe_svd.fit(X_train)\n",
    "feat_train_svd = pipe_svd.transform(X_train)\n",
    "feat_train_svd.shape"
   ]
  },
  {
   "cell_type": "code",
   "execution_count": null,
   "id": "rIaQxCZpbBYn",
   "metadata": {
    "id": "rIaQxCZpbBYn"
   },
   "outputs": [],
   "source": [
    "feat_test_svd = pipe_svd.transform(X_test)"
   ]
  },
  {
   "cell_type": "code",
   "execution_count": null,
   "id": "KISGsxjyVT72",
   "metadata": {
    "colab": {
     "base_uri": "https://localhost:8080/",
     "height": 74
    },
    "id": "KISGsxjyVT72",
    "outputId": "8582ca2f-ad24-4cb6-d970-2de3d37498c7"
   },
   "outputs": [
    {
     "data": {
      "text/html": [
       "<style>#sk-container-id-2 {color: black;}#sk-container-id-2 pre{padding: 0;}#sk-container-id-2 div.sk-toggleable {background-color: white;}#sk-container-id-2 label.sk-toggleable__label {cursor: pointer;display: block;width: 100%;margin-bottom: 0;padding: 0.3em;box-sizing: border-box;text-align: center;}#sk-container-id-2 label.sk-toggleable__label-arrow:before {content: \"▸\";float: left;margin-right: 0.25em;color: #696969;}#sk-container-id-2 label.sk-toggleable__label-arrow:hover:before {color: black;}#sk-container-id-2 div.sk-estimator:hover label.sk-toggleable__label-arrow:before {color: black;}#sk-container-id-2 div.sk-toggleable__content {max-height: 0;max-width: 0;overflow: hidden;text-align: left;background-color: #f0f8ff;}#sk-container-id-2 div.sk-toggleable__content pre {margin: 0.2em;color: black;border-radius: 0.25em;background-color: #f0f8ff;}#sk-container-id-2 input.sk-toggleable__control:checked~div.sk-toggleable__content {max-height: 200px;max-width: 100%;overflow: auto;}#sk-container-id-2 input.sk-toggleable__control:checked~label.sk-toggleable__label-arrow:before {content: \"▾\";}#sk-container-id-2 div.sk-estimator input.sk-toggleable__control:checked~label.sk-toggleable__label {background-color: #d4ebff;}#sk-container-id-2 div.sk-label input.sk-toggleable__control:checked~label.sk-toggleable__label {background-color: #d4ebff;}#sk-container-id-2 input.sk-hidden--visually {border: 0;clip: rect(1px 1px 1px 1px);clip: rect(1px, 1px, 1px, 1px);height: 1px;margin: -1px;overflow: hidden;padding: 0;position: absolute;width: 1px;}#sk-container-id-2 div.sk-estimator {font-family: monospace;background-color: #f0f8ff;border: 1px dotted black;border-radius: 0.25em;box-sizing: border-box;margin-bottom: 0.5em;}#sk-container-id-2 div.sk-estimator:hover {background-color: #d4ebff;}#sk-container-id-2 div.sk-parallel-item::after {content: \"\";width: 100%;border-bottom: 1px solid gray;flex-grow: 1;}#sk-container-id-2 div.sk-label:hover label.sk-toggleable__label {background-color: #d4ebff;}#sk-container-id-2 div.sk-serial::before {content: \"\";position: absolute;border-left: 1px solid gray;box-sizing: border-box;top: 0;bottom: 0;left: 50%;z-index: 0;}#sk-container-id-2 div.sk-serial {display: flex;flex-direction: column;align-items: center;background-color: white;padding-right: 0.2em;padding-left: 0.2em;position: relative;}#sk-container-id-2 div.sk-item {position: relative;z-index: 1;}#sk-container-id-2 div.sk-parallel {display: flex;align-items: stretch;justify-content: center;background-color: white;position: relative;}#sk-container-id-2 div.sk-item::before, #sk-container-id-2 div.sk-parallel-item::before {content: \"\";position: absolute;border-left: 1px solid gray;box-sizing: border-box;top: 0;bottom: 0;left: 50%;z-index: -1;}#sk-container-id-2 div.sk-parallel-item {display: flex;flex-direction: column;z-index: 1;position: relative;background-color: white;}#sk-container-id-2 div.sk-parallel-item:first-child::after {align-self: flex-end;width: 50%;}#sk-container-id-2 div.sk-parallel-item:last-child::after {align-self: flex-start;width: 50%;}#sk-container-id-2 div.sk-parallel-item:only-child::after {width: 0;}#sk-container-id-2 div.sk-dashed-wrapped {border: 1px dashed gray;margin: 0 0.4em 0.5em 0.4em;box-sizing: border-box;padding-bottom: 0.4em;background-color: white;}#sk-container-id-2 div.sk-label label {font-family: monospace;font-weight: bold;display: inline-block;line-height: 1.2em;}#sk-container-id-2 div.sk-label-container {text-align: center;}#sk-container-id-2 div.sk-container {/* jupyter's `normalize.less` sets `[hidden] { display: none; }` but bootstrap.min.css set `[hidden] { display: none !important; }` so we also need the `!important` here to be able to override the default hidden behavior on the sphinx rendered scikit-learn.org. See: https://github.com/scikit-learn/scikit-learn/issues/21755 */display: inline-block !important;position: relative;}#sk-container-id-2 div.sk-text-repr-fallback {display: none;}</style><div id=\"sk-container-id-2\" class=\"sk-top-container\"><div class=\"sk-text-repr-fallback\"><pre>SVC()</pre><b>In a Jupyter environment, please rerun this cell to show the HTML representation or trust the notebook. <br />On GitHub, the HTML representation is unable to render, please try loading this page with nbviewer.org.</b></div><div class=\"sk-container\" hidden><div class=\"sk-item\"><div class=\"sk-estimator sk-toggleable\"><input class=\"sk-toggleable__control sk-hidden--visually\" id=\"sk-estimator-id-5\" type=\"checkbox\" checked><label for=\"sk-estimator-id-5\" class=\"sk-toggleable__label sk-toggleable__label-arrow\">SVC</label><div class=\"sk-toggleable__content\"><pre>SVC()</pre></div></div></div></div></div>"
      ],
      "text/plain": [
       "SVC()"
      ]
     },
     "execution_count": 36,
     "metadata": {},
     "output_type": "execute_result"
    }
   ],
   "source": [
    "from sklearn.svm import SVC\n",
    "clf2 = SVC()\n",
    "\n",
    "# Fit the SVM model on the training data\n",
    "clf2.fit(feat_train_svd, y_train_labels)"
   ]
  },
  {
   "cell_type": "code",
   "execution_count": null,
   "id": "kJOzimUsTyyc",
   "metadata": {
    "colab": {
     "base_uri": "https://localhost:8080/"
    },
    "id": "kJOzimUsTyyc",
    "outputId": "9a40f4a2-1bc9-4e3f-ea60-c3321cbc38fb"
   },
   "outputs": [
    {
     "name": "stdout",
     "output_type": "stream",
     "text": [
      "Weighted F1 Score: 0.5906840216719301\n",
      "Weighted Jaccard Coefficient: 0.4408951479565628\n",
      "Accuracy: 0.580267558528428\n",
      "Weighted Recall: 0.580267558528428\n",
      "Weighted Precision: 0.6386515807462976\n"
     ]
    }
   ],
   "source": [
    "from sklearn.metrics import f1_score, jaccard_score, accuracy_score, recall_score, precision_score\n",
    "y_pred_labels = clf2.predict(feat_test_svd)\n",
    "y_test_labels = np.argmax(y_test.values, axis=1)\n",
    "# Calculate metrics\n",
    "f1 = f1_score(y_test_labels, y_pred_labels, average='weighted')\n",
    "jaccard = jaccard_score(y_test_labels, y_pred_labels, average='weighted')\n",
    "accuracy = accuracy_score(y_test_labels, y_pred_labels)\n",
    "recall = recall_score(y_test_labels, y_pred_labels, average='weighted')\n",
    "precision = precision_score(y_test_labels, y_pred_labels, average='weighted')\n",
    "\n",
    "# Print metrics\n",
    "print('Weighted F1 Score:', f1)\n",
    "print('Weighted Jaccard Coefficient:', jaccard)\n",
    "print('Accuracy:', accuracy)\n",
    "print('Weighted Recall:', recall)\n",
    "print('Weighted Precision:', precision)"
   ]
  },
  {
   "cell_type": "markdown",
   "id": "G1G0aW2tg4IU",
   "metadata": {
    "id": "G1G0aW2tg4IU"
   },
   "source": [
    "# TF IDF WITH RANDOM FOREST"
   ]
  },
  {
   "cell_type": "code",
   "execution_count": null,
   "id": "hI6wW9CSg2ZC",
   "metadata": {
    "colab": {
     "base_uri": "https://localhost:8080/"
    },
    "id": "hI6wW9CSg2ZC",
    "outputId": "e0d07fb6-cc7c-40bd-c4a2-807cdb44e353"
   },
   "outputs": [
    {
     "data": {
      "text/plain": [
       "(5382, 23104)"
      ]
     },
     "execution_count": 21,
     "metadata": {},
     "output_type": "execute_result"
    }
   ],
   "source": [
    "from sklearn.feature_extraction.text import TfidfTransformer, CountVectorizer\n",
    "from sklearn.pipeline import make_pipeline\n",
    "pipe2 = make_pipeline(CountVectorizer(), TfidfTransformer())\n",
    "pipe2.fit(X_train)\n",
    "feat_train2 = pipe2.transform(X_train)\n",
    "feat_train2.shape"
   ]
  },
  {
   "cell_type": "code",
   "execution_count": null,
   "id": "GMnK_rdvhhg0",
   "metadata": {
    "id": "GMnK_rdvhhg0"
   },
   "outputs": [],
   "source": [
    "import numpy as np\n",
    "y_train_labels = np.argmax(y_train.values, axis=1)"
   ]
  },
  {
   "cell_type": "code",
   "execution_count": null,
   "id": "FXcI3EtFg2ds",
   "metadata": {
    "colab": {
     "base_uri": "https://localhost:8080/"
    },
    "id": "FXcI3EtFg2ds",
    "outputId": "b4977c78-ba05-440a-87f6-c3e561a7240f"
   },
   "outputs": [
    {
     "data": {
      "text/plain": [
       "(598, 23104)"
      ]
     },
     "execution_count": 22,
     "metadata": {},
     "output_type": "execute_result"
    }
   ],
   "source": [
    "feat_test2 = pipe2.transform(X_test)\n",
    "feat_test2.shape"
   ]
  },
  {
   "cell_type": "code",
   "execution_count": null,
   "id": "9X4ef584g2ot",
   "metadata": {
    "colab": {
     "base_uri": "https://localhost:8080/"
    },
    "id": "9X4ef584g2ot",
    "outputId": "76a91774-ed1b-450c-c29c-1e6df7898a23"
   },
   "outputs": [
    {
     "name": "stdout",
     "output_type": "stream",
     "text": [
      "Fitting 2 folds for each of 9 candidates, totalling 18 fits\n",
      "GridSearchCV Execution Time: 298.7993493080139 seconds\n"
     ]
    }
   ],
   "source": [
    "import pickle\n",
    "from sklearn.ensemble import RandomForestClassifier\n",
    "from sklearn.model_selection import GridSearchCV\n",
    "from sklearn.multiclass import OneVsRestClassifier\n",
    "import time\n",
    "\n",
    "# Initialize RandomForest with OneVsRest\n",
    "param_rfc = {\n",
    "    \"estimator__max_depth\": [5, 25, 50],\n",
    "    \"estimator__min_samples_leaf\": [1, 5, 10],\n",
    "    \"estimator__class_weight\": [\"balanced\"]\n",
    "}\n",
    "\n",
    "multi_rfc_cv = GridSearchCV(\n",
    "    OneVsRestClassifier(RandomForestClassifier()),\n",
    "    param_grid=param_rfc,\n",
    "    n_jobs=-1,\n",
    "    cv=2,\n",
    "    scoring=\"f1_weighted\",\n",
    "    return_train_score=True,\n",
    "    refit=True,\n",
    "    verbose=3\n",
    ")\n",
    "\n",
    "# Record the start time\n",
    "start_time = time.time()\n",
    "\n",
    "multi_rfc_cv.fit(feat_train2, y_train_labels)\n",
    "\n",
    "# Calculate the time of execution\n",
    "end_time = time.time()\n",
    "execution_time = end_time - start_time\n",
    "print(f\"GridSearchCV Execution Time: {execution_time} seconds\")\n"
   ]
  },
  {
   "cell_type": "code",
   "execution_count": null,
   "id": "469qoa5YnIcE",
   "metadata": {
    "id": "469qoa5YnIcE"
   },
   "outputs": [],
   "source": [
    "# Save the best model with pickle\n",
    "best_rfc_model = multi_rfc_cv.best_estimator_\n",
    "with open(\"best_model_rfc.pkl\", \"wb\") as f:\n",
    "    pickle.dump(best_rfc_model, f)"
   ]
  },
  {
   "cell_type": "code",
   "execution_count": null,
   "id": "uxQZcJ7rixFW",
   "metadata": {
    "colab": {
     "base_uri": "https://localhost:8080/"
    },
    "id": "uxQZcJ7rixFW",
    "outputId": "e5293801-b98b-414e-a63d-401da472e1d4"
   },
   "outputs": [
    {
     "name": "stdout",
     "output_type": "stream",
     "text": [
      "Weighted F1 Score: 0.6462525034203823\n",
      "Weighted Jaccard Coefficient: 0.509647988138202\n",
      "Accuracy: 0.6555183946488294\n",
      "Weighted Recall: 0.6555183946488294\n",
      "Weighted Precision: 0.665718722174032\n"
     ]
    }
   ],
   "source": [
    "from sklearn.metrics import f1_score, jaccard_score, accuracy_score, recall_score, precision_score\n",
    "y_pred_labels = best_rfc_model.predict(feat_test2)\n",
    "y_test_labels = np.argmax(y_test.values, axis=1)\n",
    "# Calculate metrics\n",
    "f1 = f1_score(y_test_labels, y_pred_labels, average='weighted')\n",
    "jaccard = jaccard_score(y_test_labels, y_pred_labels, average='weighted')\n",
    "accuracy = accuracy_score(y_test_labels, y_pred_labels)\n",
    "recall = recall_score(y_test_labels, y_pred_labels, average='weighted')\n",
    "precision = precision_score(y_test_labels, y_pred_labels, average='weighted')\n",
    "\n",
    "# Print metrics\n",
    "print('Weighted F1 Score:', f1)\n",
    "print('Weighted Jaccard Coefficient:', jaccard)\n",
    "print('Accuracy:', accuracy)\n",
    "print('Weighted Recall:', recall)\n",
    "print('Weighted Precision:', precision)"
   ]
  },
  {
   "cell_type": "code",
   "execution_count": null,
   "id": "vemcmI8PjBg5",
   "metadata": {
    "colab": {
     "base_uri": "https://localhost:8080/"
    },
    "id": "vemcmI8PjBg5",
    "outputId": "06d5c412-8638-422f-b1ba-33ea5b128cfd"
   },
   "outputs": [
    {
     "name": "stdout",
     "output_type": "stream",
     "text": [
      "--------------------------------------------------\n",
      "Percentage of non-tagged questions for TF IDF WITH RANDOM FOREST model\n",
      "--------------------------------------------------\n",
      "TF IDF WITH RANDOM FOREST: 4.18%\n",
      "\n"
     ]
    },
    {
     "data": {
      "text/plain": [
       "4.18"
      ]
     },
     "execution_count": 21,
     "metadata": {},
     "output_type": "execute_result"
    }
   ],
   "source": [
    "# Assuming you have y_test_labels and y_pred_labels\n",
    "show_non_predicted_tags('TF IDF WITH RANDOM FOREST', y_pred_labels)"
   ]
  },
  {
   "cell_type": "code",
   "execution_count": null,
   "id": "sJ1lQNEaohH5",
   "metadata": {
    "colab": {
     "base_uri": "https://localhost:8080/"
    },
    "id": "sJ1lQNEaohH5",
    "outputId": "e2e62f18-d1fd-4704-a1bf-a9245447f4c9"
   },
   "outputs": [
    {
     "name": "stdout",
     "output_type": "stream",
     "text": [
      "Predicted Tags\tTrue Tags\n",
      "-----------------------------\n",
      "algorithm\t\talgorithm\n",
      "iphone\t\tiphone\n",
      "javascript\t\tjavascript\n",
      "html\t\tpython\n",
      "visual-studio\t\tvisual-studio\n",
      "algorithm\t\talgorithm\n",
      "css\t\thtml\n",
      "sql-server\t\tsql-server\n",
      "visual-studio\t\tpython\n",
      "java\t\tjava\n"
     ]
    }
   ],
   "source": [
    "print(\"Predicted Tags\\tTrue Tags\")\n",
    "print(\"-----------------------------\")\n",
    "for i in range(10):\n",
    "    predicted_tag = tags_list[y_pred_labels[i]][0]\n",
    "    true_tag = tags_list[y_test_labels[i]][0]\n",
    "    print(f\"{predicted_tag}\\t\\t{true_tag}\")"
   ]
  },
  {
   "cell_type": "code",
   "execution_count": 31,
   "id": "Vyd_6COVD8RQ",
   "metadata": {
    "colab": {
     "base_uri": "https://localhost:8080/",
     "height": 607
    },
    "id": "Vyd_6COVD8RQ",
    "outputId": "305b6481-e30a-487d-8ce5-549ed5c2b383"
   },
   "outputs": [
    {
     "data": {
      "image/png": "[encoded data removed]",
      "text/plain": [
       "<Figure size 1000x600 with 1 Axes>"
      ]
     },
     "metadata": {},
     "output_type": "display_data"
    }
   ],
   "source": [
    "\n",
    "model_name = \"TF IDF WITH RANDOM FOREST\"\n",
    "metrics_scores = {\n",
    "    \"Weighted F1 Score\": 0.6462525034203823,\n",
    "    \"Weighted Jaccard Coefficient\": 0.509647988138202,\n",
    "    \"Accuracy\": 0.6555183946488294,\n",
    "    \"Weighted Recall\": 0.6555183946488294,\n",
    "    \"Weighted Precision\": 0.665718722174032\n",
    "}\n",
    "\n",
    "plot_metrics_scores(model_name, metrics_scores)\n",
    "\n",
    "percentage_non_tagged = 4.18\n"
   ]
  },
  {
   "cell_type": "code",
   "execution_count": 32,
   "id": "rAe5p1jJD_OY",
   "metadata": {
    "colab": {
     "base_uri": "https://localhost:8080/",
     "height": 607
    },
    "id": "rAe5p1jJD_OY",
    "outputId": "56c34748-770c-4ac4-b30c-ab0274e9a932"
   },
   "outputs": [
    {
     "data": {
      "image/png": "[encoded data removed]",
      "text/plain": [
       "<Figure size 600x600 with 1 Axes>"
      ]
     },
     "metadata": {},
     "output_type": "display_data"
    }
   ],
   "source": [
    "plot_non_tagged_percentage(percentage_non_tagged)"
   ]
  },
  {
   "cell_type": "markdown",
   "id": "fv2RzISBvWk6",
   "metadata": {
    "id": "fv2RzISBvWk6"
   },
   "source": [
    "# USE WITH MLP"
   ]
  },
  {
   "cell_type": "code",
   "execution_count": null,
   "id": "jB5YiBIKIH4f",
   "metadata": {
    "colab": {
     "base_uri": "https://localhost:8080/"
    },
    "id": "jB5YiBIKIH4f",
    "outputId": "8529f20e-156f-4ea7-a8e2-deb43202e566"
   },
   "outputs": [
    {
     "name": "stdout",
     "output_type": "stream",
     "text": [
      "(5382, 512)\n"
     ]
    }
   ],
   "source": [
    "import tensorflow_hub as hub\n",
    "import numpy as np\n",
    "from sklearn.base import BaseEstimator, TransformerMixin\n",
    "from sklearn.pipeline import Pipeline\n",
    "from sklearn.feature_extraction.text import TfidfVectorizer\n",
    "\n",
    "class UniversalSentenceEncoderTransformer(BaseEstimator, TransformerMixin):\n",
    "    def __init__(self, model_url):\n",
    "        self.model_url = model_url\n",
    "        self.model = hub.load(self.model_url)\n",
    "\n",
    "    def fit(self, X, y=None):\n",
    "        return self\n",
    "\n",
    "    def transform(self, X):\n",
    "        embeddings = self.model(X)\n",
    "        return np.array(embeddings)\n",
    "\n",
    "# Load the Universal Sentence Encoder model\n",
    "use_model_url = \"https://tfhub.dev/google/universal-sentence-encoder/4\"\n",
    "\n",
    "# Create the pipeline with the custom transformer\n",
    "pipeUSE = Pipeline([\n",
    "    ('use', UniversalSentenceEncoderTransformer(model_url=use_model_url))\n",
    "])\n",
    "\n",
    "# Fit and transform the data\n",
    "feat_trainUSE = pipeUSE.fit_transform(X_train)\n",
    "\n",
    "print(feat_trainUSE.shape)\n"
   ]
  },
  {
   "cell_type": "code",
   "execution_count": null,
   "id": "g0D9Z5X-wS6e",
   "metadata": {
    "id": "g0D9Z5X-wS6e"
   },
   "outputs": [],
   "source": [
    "feat_testUSE = pipeUSE.transform(X_test)"
   ]
  },
  {
   "cell_type": "code",
   "execution_count": null,
   "id": "x2qqU8lFvVa7",
   "metadata": {
    "colab": {
     "base_uri": "https://localhost:8080/",
     "height": 74
    },
    "id": "x2qqU8lFvVa7",
    "outputId": "447eefb2-b356-4bb5-9a38-7c1952b97bc1"
   },
   "outputs": [
    {
     "data": {
      "text/html": [
       "<style>#sk-container-id-1 {color: black;background-color: white;}#sk-container-id-1 pre{padding: 0;}#sk-container-id-1 div.sk-toggleable {background-color: white;}#sk-container-id-1 label.sk-toggleable__label {cursor: pointer;display: block;width: 100%;margin-bottom: 0;padding: 0.3em;box-sizing: border-box;text-align: center;}#sk-container-id-1 label.sk-toggleable__label-arrow:before {content: \"▸\";float: left;margin-right: 0.25em;color: #696969;}#sk-container-id-1 label.sk-toggleable__label-arrow:hover:before {color: black;}#sk-container-id-1 div.sk-estimator:hover label.sk-toggleable__label-arrow:before {color: black;}#sk-container-id-1 div.sk-toggleable__content {max-height: 0;max-width: 0;overflow: hidden;text-align: left;background-color: #f0f8ff;}#sk-container-id-1 div.sk-toggleable__content pre {margin: 0.2em;color: black;border-radius: 0.25em;background-color: #f0f8ff;}#sk-container-id-1 input.sk-toggleable__control:checked~div.sk-toggleable__content {max-height: 200px;max-width: 100%;overflow: auto;}#sk-container-id-1 input.sk-toggleable__control:checked~label.sk-toggleable__label-arrow:before {content: \"▾\";}#sk-container-id-1 div.sk-estimator input.sk-toggleable__control:checked~label.sk-toggleable__label {background-color: #d4ebff;}#sk-container-id-1 div.sk-label input.sk-toggleable__control:checked~label.sk-toggleable__label {background-color: #d4ebff;}#sk-container-id-1 input.sk-hidden--visually {border: 0;clip: rect(1px 1px 1px 1px);clip: rect(1px, 1px, 1px, 1px);height: 1px;margin: -1px;overflow: hidden;padding: 0;position: absolute;width: 1px;}#sk-container-id-1 div.sk-estimator {font-family: monospace;background-color: #f0f8ff;border: 1px dotted black;border-radius: 0.25em;box-sizing: border-box;margin-bottom: 0.5em;}#sk-container-id-1 div.sk-estimator:hover {background-color: #d4ebff;}#sk-container-id-1 div.sk-parallel-item::after {content: \"\";width: 100%;border-bottom: 1px solid gray;flex-grow: 1;}#sk-container-id-1 div.sk-label:hover label.sk-toggleable__label {background-color: #d4ebff;}#sk-container-id-1 div.sk-serial::before {content: \"\";position: absolute;border-left: 1px solid gray;box-sizing: border-box;top: 0;bottom: 0;left: 50%;z-index: 0;}#sk-container-id-1 div.sk-serial {display: flex;flex-direction: column;align-items: center;background-color: white;padding-right: 0.2em;padding-left: 0.2em;position: relative;}#sk-container-id-1 div.sk-item {position: relative;z-index: 1;}#sk-container-id-1 div.sk-parallel {display: flex;align-items: stretch;justify-content: center;background-color: white;position: relative;}#sk-container-id-1 div.sk-item::before, #sk-container-id-1 div.sk-parallel-item::before {content: \"\";position: absolute;border-left: 1px solid gray;box-sizing: border-box;top: 0;bottom: 0;left: 50%;z-index: -1;}#sk-container-id-1 div.sk-parallel-item {display: flex;flex-direction: column;z-index: 1;position: relative;background-color: white;}#sk-container-id-1 div.sk-parallel-item:first-child::after {align-self: flex-end;width: 50%;}#sk-container-id-1 div.sk-parallel-item:last-child::after {align-self: flex-start;width: 50%;}#sk-container-id-1 div.sk-parallel-item:only-child::after {width: 0;}#sk-container-id-1 div.sk-dashed-wrapped {border: 1px dashed gray;margin: 0 0.4em 0.5em 0.4em;box-sizing: border-box;padding-bottom: 0.4em;background-color: white;}#sk-container-id-1 div.sk-label label {font-family: monospace;font-weight: bold;display: inline-block;line-height: 1.2em;}#sk-container-id-1 div.sk-label-container {text-align: center;}#sk-container-id-1 div.sk-container {/* jupyter's `normalize.less` sets `[hidden] { display: none; }` but bootstrap.min.css set `[hidden] { display: none !important; }` so we also need the `!important` here to be able to override the default hidden behavior on the sphinx rendered scikit-learn.org. See: https://github.com/scikit-learn/scikit-learn/issues/21755 */display: inline-block !important;position: relative;}#sk-container-id-1 div.sk-text-repr-fallback {display: none;}</style><div id=\"sk-container-id-1\" class=\"sk-top-container\"><div class=\"sk-text-repr-fallback\"><pre>MLPClassifier(hidden_layer_sizes=(256, 128), random_state=42)</pre><b>In a Jupyter environment, please rerun this cell to show the HTML representation or trust the notebook. <br />On GitHub, the HTML representation is unable to render, please try loading this page with nbviewer.org.</b></div><div class=\"sk-container\" hidden><div class=\"sk-item\"><div class=\"sk-estimator sk-toggleable\"><input class=\"sk-toggleable__control sk-hidden--visually\" id=\"sk-estimator-id-1\" type=\"checkbox\" checked><label for=\"sk-estimator-id-1\" class=\"sk-toggleable__label sk-toggleable__label-arrow\">MLPClassifier</label><div class=\"sk-toggleable__content\"><pre>MLPClassifier(hidden_layer_sizes=(256, 128), random_state=42)</pre></div></div></div></div></div>"
      ],
      "text/plain": [
       "MLPClassifier(hidden_layer_sizes=(256, 128), random_state=42)"
      ]
     },
     "execution_count": 34,
     "metadata": {},
     "output_type": "execute_result"
    }
   ],
   "source": [
    "from sklearn.neural_network import MLPClassifier\n",
    "# Define and train the MLP classifier\n",
    "mlp_classifier = MLPClassifier(hidden_layer_sizes=(256, 128), max_iter=200, random_state=42)\n",
    "mlp_classifier.fit(feat_trainUSE, y_train_labels)"
   ]
  },
  {
   "cell_type": "code",
   "execution_count": null,
   "id": "CjXz6NEvxd7k",
   "metadata": {
    "colab": {
     "base_uri": "https://localhost:8080/"
    },
    "id": "CjXz6NEvxd7k",
    "outputId": "a0191f45-5fe9-4bb1-9ac6-c410df97c122"
   },
   "outputs": [
    {
     "name": "stdout",
     "output_type": "stream",
     "text": [
      "Weighted F1 Score: 0.6348466431776636\n",
      "Weighted Jaccard Coefficient: 0.4896868429350547\n",
      "Accuracy: 0.6387959866220736\n",
      "Weighted Recall: 0.6387959866220736\n",
      "Weighted Precision: 0.6363047448741698\n"
     ]
    }
   ],
   "source": [
    "from sklearn.metrics import f1_score, jaccard_score, accuracy_score, recall_score, precision_score\n",
    "\n",
    "y_pred_labels = mlp_classifier.predict(feat_testUSE)\n",
    "\n",
    "# Calculate metrics\n",
    "f1 = f1_score(y_test_labels, y_pred_labels, average='weighted')\n",
    "jaccard = jaccard_score(y_test_labels, y_pred_labels, average='weighted')\n",
    "accuracy = accuracy_score(y_test_labels, y_pred_labels)\n",
    "recall = recall_score(y_test_labels, y_pred_labels, average='weighted')\n",
    "precision = precision_score(y_test_labels, y_pred_labels, average='weighted')\n",
    "\n",
    "# Print metrics\n",
    "print('Weighted F1 Score:', f1)\n",
    "print('Weighted Jaccard Coefficient:', jaccard)\n",
    "print('Accuracy:', accuracy)\n",
    "print('Weighted Recall:', recall)\n",
    "print('Weighted Precision:', precision)\n"
   ]
  },
  {
   "cell_type": "code",
   "execution_count": null,
   "id": "gm9pN3FWxnoq",
   "metadata": {
    "colab": {
     "base_uri": "https://localhost:8080/"
    },
    "id": "gm9pN3FWxnoq",
    "outputId": "9d8eb759-958e-4e23-a3bc-241f24712bce"
   },
   "outputs": [
    {
     "name": "stdout",
     "output_type": "stream",
     "text": [
      "--------------------------------------------------\n",
      "Percentage of non-tagged questions for USE WITH MLP model\n",
      "--------------------------------------------------\n",
      "USE WITH MLP: 3.85%\n",
      "\n"
     ]
    },
    {
     "data": {
      "text/plain": [
       "3.85"
      ]
     },
     "execution_count": 36,
     "metadata": {},
     "output_type": "execute_result"
    }
   ],
   "source": [
    "# Assuming you have y_test_labels and y_pred_labels\n",
    "show_non_predicted_tags('USE WITH MLP', y_pred_labels)"
   ]
  },
  {
   "cell_type": "code",
   "execution_count": null,
   "id": "y46TGbXf3wgp",
   "metadata": {
    "id": "y46TGbXf3wgp"
   },
   "outputs": [],
   "source": [
    "# Save the best model with pickle\n",
    "with open(\"mlp_classifier.pkl\", \"wb\") as f:\n",
    "    pickle.dump(mlp_classifier, f)"
   ]
  },
  {
   "cell_type": "code",
   "execution_count": 36,
   "id": "IpC2iSAMEr8Q",
   "metadata": {
    "id": "IpC2iSAMEr8Q"
   },
   "outputs": [],
   "source": [
    "model_name = \"USE WITH MLP\"\n",
    "\n",
    "metrics_scores = {\n",
    "    \"Weighted F1 Score\": 0.6348466431776636,\n",
    "    \"Weighted Jaccard Coefficient\": 0.4896868429350547,\n",
    "    \"Accuracy\": 0.6387959866220736,\n",
    "    \"Weighted Recall\": 0.6387959866220736,\n",
    "    \"Weighted Precision\": 0.6363047448741698\n",
    "}\n",
    "\n",
    "percentage_non_tagged = 3.85"
   ]
  },
  {
   "cell_type": "code",
   "execution_count": 37,
   "id": "M4KxzvbcEs2g",
   "metadata": {
    "colab": {
     "base_uri": "https://localhost:8080/",
     "height": 607
    },
    "id": "M4KxzvbcEs2g",
    "outputId": "22707032-b7c0-4a71-ed60-145b0502dd51"
   },
   "outputs": [
    {
     "data": {
      "image/png": "[encoded data removed]",
      "text/plain": [
       "<Figure size 1000x600 with 1 Axes>"
      ]
     },
     "metadata": {},
     "output_type": "display_data"
    }
   ],
   "source": [
    "plot_metrics_scores(model_name, metrics_scores)"
   ]
  },
  {
   "cell_type": "markdown",
   "id": "Q1LZEgkm8FBj",
   "metadata": {
    "id": "Q1LZEgkm8FBj"
   },
   "source": [
    "# BERT WITH CNN"
   ]
  },
  {
   "cell_type": "code",
   "execution_count": 12,
   "id": "aJdveEem3olv",
   "metadata": {
    "colab": {
     "base_uri": "https://localhost:8080/"
    },
    "id": "aJdveEem3olv",
    "outputId": "8aa21a15-bd5b-468a-dfb4-9c5e0f7dc595"
   },
   "outputs": [
    {
     "name": "stderr",
     "output_type": "stream",
     "text": [
      "Some weights of the PyTorch model were not used when initializing the TF 2.0 model TFBertModel: ['cls.predictions.transform.dense.weight', 'cls.predictions.transform.LayerNorm.bias', 'cls.predictions.transform.LayerNorm.weight', 'cls.seq_relationship.weight', 'cls.seq_relationship.bias', 'cls.predictions.bias', 'cls.predictions.transform.dense.bias']\n",
      "- This IS expected if you are initializing TFBertModel from a PyTorch model trained on another task or with another architecture (e.g. initializing a TFBertForSequenceClassification model from a BertForPreTraining model).\n",
      "- This IS NOT expected if you are initializing TFBertModel from a PyTorch model that you expect to be exactly identical (e.g. initializing a TFBertForSequenceClassification model from a BertForSequenceClassification model).\n",
      "All the weights of TFBertModel were initialized from the PyTorch model.\n",
      "If your task is similar to the task the model of the checkpoint was trained on, you can already use TFBertModel for predictions without further training.\n"
     ]
    },
    {
     "name": "stdout",
     "output_type": "stream",
     "text": [
      "157/157 [==============================] - 525s 3s/step\n",
      "Epoch 1/5\n",
      "127/127 [==============================] - 7s 49ms/step - loss: 2.1453 - accuracy: 0.3642 - val_loss: 1.4832 - val_accuracy: 0.5667\n",
      "Epoch 2/5\n",
      "127/127 [==============================] - 6s 44ms/step - loss: 1.1998 - accuracy: 0.6274 - val_loss: 1.2514 - val_accuracy: 0.6067\n",
      "Epoch 3/5\n",
      "127/127 [==============================] - 5s 43ms/step - loss: 0.7792 - accuracy: 0.7556 - val_loss: 1.2945 - val_accuracy: 0.6222\n",
      "Epoch 4/5\n",
      "127/127 [==============================] - 5s 43ms/step - loss: 0.5034 - accuracy: 0.8338 - val_loss: 1.3260 - val_accuracy: 0.6156\n",
      "Epoch 5/5\n",
      "127/127 [==============================] - 5s 42ms/step - loss: 0.2775 - accuracy: 0.9101 - val_loss: 1.4827 - val_accuracy: 0.5867\n",
      "16/16 [==============================] - 0s 16ms/step\n",
      "Test accuracy: 0.618\n"
     ]
    }
   ],
   "source": [
    "import numpy as np\n",
    "import tensorflow as tf\n",
    "from transformers import BertTokenizer, TFBertModel\n",
    "from sklearn.model_selection import train_test_split\n",
    "from sklearn.metrics import accuracy_score\n",
    "\n",
    "# Load the BERT tokenizer and model\n",
    "tokenizer = BertTokenizer.from_pretrained('bert-base-uncased')\n",
    "bert_model = TFBertModel.from_pretrained('bert-base-uncased')\n",
    "\n",
    "# Example data and labels (replace this with your actual data)\n",
    "texts = balanced_data['text_1'].tolist()  # Convert to a list of strings\n",
    "labels = one_hot_encoded_subset\n",
    "\n",
    "# Tokenize the text data and convert to input IDs and attention masks\n",
    "def tokenize_texts(texts):\n",
    "    inputs = tokenizer(texts, padding=True, truncation=True, return_tensors=\"tf\", max_length=128)\n",
    "    return inputs\n",
    "\n",
    "input_ids = tokenize_texts(texts)['input_ids']\n",
    "attention_masks = tokenize_texts(texts)['attention_mask']\n",
    "\n",
    "# Convert TensorFlow tensors to NumPy arrays\n",
    "input_ids = input_ids.numpy()\n",
    "attention_masks = attention_masks.numpy()\n",
    "\n",
    "# Get BERT embeddings for the input text\n",
    "bert_embeddings = bert_model.predict([input_ids, attention_masks])[0]\n",
    "\n",
    "# Convert labels to NumPy arrays\n",
    "labels = np.array(labels)\n",
    "\n",
    "# Split the data into training and testing sets\n",
    "X_train, X_test, y_train, y_test = train_test_split(bert_embeddings, labels, test_size=0.1, random_state=42)\n",
    "\n",
    "# Define and train the CNN model\n",
    "model = tf.keras.Sequential([\n",
    "    tf.keras.layers.Conv1D(128, 5, activation='relu', input_shape=(128, 768)),\n",
    "    tf.keras.layers.GlobalMaxPooling1D(),\n",
    "    tf.keras.layers.Dense(256, activation='relu'),\n",
    "    tf.keras.layers.Dropout(0.2),\n",
    "    tf.keras.layers.Dense(20, activation='softmax')  # Adjust the output dimension based on your classification task\n",
    "])\n",
    "\n",
    "model.compile(optimizer='adam', loss='categorical_crossentropy', metrics=['accuracy'])\n",
    "model.fit(X_train, y_train, epochs=5, batch_size=32, validation_split=0.1)\n",
    "\n",
    "# Evaluate the CNN model on the test set\n",
    "y_pred = model.predict(X_test)\n",
    "accuracy = accuracy_score(y_test.argmax(axis=1), y_pred.argmax(axis=1))\n",
    "print(\"Test accuracy:\", accuracy)"
   ]
  },
  {
   "cell_type": "code",
   "execution_count": 21,
   "id": "D-wyv_8p9lOC",
   "metadata": {
    "id": "D-wyv_8p9lOC"
   },
   "outputs": [],
   "source": [
    "# Save the model\n",
    "model.save(\"BERTCNN.h5\")\n",
    "\n",
    "# Save the train and test data using numpy.save\n",
    "np.save(\"X_train.npy\", X_train)\n",
    "np.save(\"X_test.npy\", X_test)\n",
    "np.save(\"y_train.npy\", y_train)\n",
    "np.save(\"y_test.npy\", y_test)"
   ]
  },
  {
   "cell_type": "code",
   "execution_count": 15,
   "id": "x8V_icJj6v6W",
   "metadata": {
    "colab": {
     "base_uri": "https://localhost:8080/"
    },
    "id": "x8V_icJj6v6W",
    "outputId": "2cb26807-8288-4492-d685-a682012940ed"
   },
   "outputs": [
    {
     "name": "stdout",
     "output_type": "stream",
     "text": [
      "Weighted F1 Score: 0.6205007428761867\n",
      "Weighted Jaccard Coefficient: 0.4716459877328499\n",
      "Accuracy: 0.618\n",
      "Weighted Recall: 0.618\n",
      "Weighted Precision: 0.6382433278817414\n"
     ]
    }
   ],
   "source": [
    "from sklearn.metrics import accuracy_score, f1_score, jaccard_score, recall_score, precision_score\n",
    "\n",
    "\n",
    "y_test_labels = y_test.argmax(axis=1)\n",
    "y_pred_labels = y_pred.argmax(axis=1)\n",
    "\n",
    "# Calculate metrics\n",
    "f1 = f1_score(y_test_labels, y_pred_labels, average='weighted')\n",
    "jaccard = jaccard_score(y_test_labels, y_pred_labels, average='weighted')\n",
    "accuracy = accuracy_score(y_test_labels, y_pred_labels)\n",
    "recall = recall_score(y_test_labels, y_pred_labels, average='weighted')\n",
    "precision = precision_score(y_test_labels, y_pred_labels, average='weighted')\n",
    "\n",
    "# Print metrics\n",
    "print('Weighted F1 Score:', f1)\n",
    "print('Weighted Jaccard Coefficient:', jaccard)\n",
    "print('Accuracy:', accuracy)\n",
    "print('Weighted Recall:', recall)\n",
    "print('Weighted Precision:', precision)\n",
    "\n"
   ]
  },
  {
   "cell_type": "code",
   "execution_count": 17,
   "id": "lSS_sHuO7nfz",
   "metadata": {
    "colab": {
     "base_uri": "https://localhost:8080/"
    },
    "id": "lSS_sHuO7nfz",
    "outputId": "6c1819cb-3e0b-4586-c0ec-5c4e738cf512"
   },
   "outputs": [
    {
     "name": "stdout",
     "output_type": "stream",
     "text": [
      "--------------------------------------------------\n",
      "Percentage of non-tagged questions for BERT WITH CNN model\n",
      "--------------------------------------------------\n",
      "BERT WITH CNN: 4.4%\n",
      "\n"
     ]
    },
    {
     "data": {
      "text/plain": [
       "4.4"
      ]
     },
     "execution_count": 17,
     "metadata": {},
     "output_type": "execute_result"
    }
   ],
   "source": [
    "# Assuming you have y_test_labels and y_pred_labels\n",
    "show_non_predicted_tags('BERT WITH CNN', y_pred_labels)"
   ]
  },
  {
   "cell_type": "code",
   "execution_count": 16,
   "id": "8z7PdQ0o7i_s",
   "metadata": {
    "colab": {
     "base_uri": "https://localhost:8080/"
    },
    "id": "8z7PdQ0o7i_s",
    "outputId": "fa6ec61a-78fb-42cb-ac08-2e3d5b443f5f"
   },
   "outputs": [
    {
     "name": "stdout",
     "output_type": "stream",
     "text": [
      "Predicted Tags\tTrue Tags\n",
      "-----------------------------\n",
      "iphone\t\tiphone\n",
      "javascript\t\thtml\n",
      "visual-studio\t\tasp.net\n",
      "jquery\t\tjquery\n",
      ".net\t\twindows\n",
      "c\t\tc\n",
      "visual-studio\t\tvisual-studio\n",
      "mysql\t\tmysql\n",
      "java\t\tjava\n",
      "sql\t\tsql\n",
      "html\t\tasp.net\n",
      "algorithm\t\talgorithm\n",
      "java\t\tjava\n",
      ".net\t\twindows\n",
      "javascript\t\tjquery\n",
      "c++\t\tc++\n",
      "algorithm\t\talgorithm\n",
      "java\t\tperformance\n",
      "performance\t\tc++\n",
      "performance\t\tperformance\n"
     ]
    }
   ],
   "source": [
    "print(\"Predicted Tags\\tTrue Tags\")\n",
    "print(\"-----------------------------\")\n",
    "for i in range(20):\n",
    "    predicted_tag = tags_list[y_pred_labels[i]][0]\n",
    "    true_tag = tags_list[y_test_labels[i]][0]\n",
    "    print(f\"{predicted_tag}\\t\\t{true_tag}\")"
   ]
  },
  {
   "cell_type": "code",
   "execution_count": 40,
   "id": "BqqkHYxRFwuu",
   "metadata": {
    "id": "BqqkHYxRFwuu"
   },
   "outputs": [],
   "source": [
    "model_name = \"BERT WITH CNN\"\n",
    "\n",
    "metrics_scores = {\n",
    "    \"Weighted F1 Score\": 0.6205007428761867,\n",
    "    \"Weighted Jaccard Coefficient\": 0.4716459877328499,\n",
    "    \"Accuracy\": 0.618,\n",
    "    \"Weighted Recall\": 0.618,\n",
    "    \"Weighted Precision\": 0.6382433278817414\n",
    "}\n",
    "\n",
    "percentage_non_tagged = 4.4"
   ]
  },
  {
   "cell_type": "code",
   "execution_count": 41,
   "id": "Gyodl2_DFx4W",
   "metadata": {
    "colab": {
     "base_uri": "https://localhost:8080/",
     "height": 607
    },
    "id": "Gyodl2_DFx4W",
    "outputId": "cb8c9d40-2184-4b98-a473-070f9089f82b"
   },
   "outputs": [
    {
     "data": {
      "image/png": "[encoded data removed]",
      "text/plain": [
       "<Figure size 1000x600 with 1 Axes>"
      ]
     },
     "metadata": {},
     "output_type": "display_data"
    }
   ],
   "source": [
    "plot_metrics_scores(model_name, metrics_scores)"
   ]
  },
  {
   "cell_type": "code",
   "execution_count": 42,
   "id": "Fp8RyPOAF5YZ",
   "metadata": {
    "colab": {
     "base_uri": "https://localhost:8080/",
     "height": 607
    },
    "id": "Fp8RyPOAF5YZ",
    "outputId": "e29bef2b-431d-4fc3-bf52-0635e65c51a4"
   },
   "outputs": [
    {
     "data": {
      "image/png": "[encoded data removed]",
      "text/plain": [
       "<Figure size 600x600 with 1 Axes>"
      ]
     },
     "metadata": {},
     "output_type": "display_data"
    }
   ],
   "source": [
    "plot_non_tagged_percentage(percentage_non_tagged)"
   ]
  },
  {
   "cell_type": "markdown",
   "id": "9RiLCLrU1wj9",
   "metadata": {
    "id": "9RiLCLrU1wj9"
   },
   "source": [
    "# Word2vec WITH  LR"
   ]
  },
  {
   "cell_type": "code",
   "execution_count": null,
   "id": "F3wN7Uduel-A",
   "metadata": {
    "colab": {
     "base_uri": "https://localhost:8080/"
    },
    "id": "F3wN7Uduel-A",
    "outputId": "584d9126-c50f-499a-f049-0b523d6a821c"
   },
   "outputs": [
    {
     "name": "stdout",
     "output_type": "stream",
     "text": [
      "Requirement already satisfied: gensim in /usr/local/lib/python3.10/dist-packages (4.3.1)\n",
      "Requirement already satisfied: numpy>=1.18.5 in /usr/local/lib/python3.10/dist-packages (from gensim) (1.22.4)\n",
      "Requirement already satisfied: scipy>=1.7.0 in /usr/local/lib/python3.10/dist-packages (from gensim) (1.10.1)\n",
      "Requirement already satisfied: smart-open>=1.8.1 in /usr/local/lib/python3.10/dist-packages (from gensim) (6.3.0)\n"
     ]
    }
   ],
   "source": [
    "pip install gensim\n"
   ]
  },
  {
   "cell_type": "code",
   "execution_count": null,
   "id": "MBO6af7HwYMT",
   "metadata": {
    "colab": {
     "base_uri": "https://localhost:8080/"
    },
    "id": "MBO6af7HwYMT",
    "outputId": "e06c8252-ff5d-4a73-8e6e-aed16be9f92e"
   },
   "outputs": [
    {
     "name": "stdout",
     "output_type": "stream",
     "text": [
      "2023-08-01 10:58:16.386172: I tensorflow/core/platform/cpu_feature_guard.cc:182] This TensorFlow binary is optimized to use available CPU instructions in performance-critical operations.\n",
      "To enable the following instructions: AVX2 FMA, in other operations, rebuild TensorFlow with the appropriate compiler flags.\n",
      "2023-08-01 10:58:17.366232: W tensorflow/compiler/tf2tensorrt/utils/py_utils.cc:38] TF-TRT Warning: Could not find TensorRT\n",
      "2023-08-01 10:58:18.671782: I tensorflow/compiler/xla/stream_executor/cuda/cuda_gpu_executor.cc:996] successful NUMA node read from SysFS had negative value (-1), but there must be at least one NUMA node, so returning NUMA node zero. See more at https://github.com/torvalds/linux/blob/v6.0/Documentation/ABI/testing/sysfs-bus-pci#L344-L355\n",
      "2023-08-01 10:58:18.672236: I tensorflow/compiler/xla/stream_executor/cuda/cuda_gpu_executor.cc:996] successful NUMA node read from SysFS had negative value (-1), but there must be at least one NUMA node, so returning NUMA node zero. See more at https://github.com/torvalds/linux/blob/v6.0/Documentation/ABI/testing/sysfs-bus-pci#L344-L355\n",
      "2023-08-01 10:58:18.672416: I tensorflow/compiler/xla/stream_executor/cuda/cuda_gpu_executor.cc:996] successful NUMA node read from SysFS had negative value (-1), but there must be at least one NUMA node, so returning NUMA node zero. See more at https://github.com/torvalds/linux/blob/v6.0/Documentation/ABI/testing/sysfs-bus-pci#L344-L355\n",
      "Collecting en-core-web-md==3.5.0\n",
      "  Downloading https://github.com/explosion/spacy-models/releases/download/en_core_web_md-3.5.0/en_core_web_md-3.5.0-py3-none-any.whl (42.8 MB)\n",
      "\u001b[2K     \u001b[90m━━━━━━━━━━━━━━━━━━━━━━━━━━━━━━━━━━━━━━━━\u001b[0m \u001b[32m42.8/42.8 MB\u001b[0m \u001b[31m12.7 MB/s\u001b[0m eta \u001b[36m0:00:00\u001b[0m\n",
      "\u001b[?25hRequirement already satisfied: spacy<3.6.0,>=3.5.0 in /usr/local/lib/python3.10/dist-packages (from en-core-web-md==3.5.0) (3.5.4)\n",
      "Requirement already satisfied: spacy-legacy<3.1.0,>=3.0.11 in /usr/local/lib/python3.10/dist-packages (from spacy<3.6.0,>=3.5.0->en-core-web-md==3.5.0) (3.0.12)\n",
      "Requirement already satisfied: spacy-loggers<2.0.0,>=1.0.0 in /usr/local/lib/python3.10/dist-packages (from spacy<3.6.0,>=3.5.0->en-core-web-md==3.5.0) (1.0.4)\n",
      "Requirement already satisfied: murmurhash<1.1.0,>=0.28.0 in /usr/local/lib/python3.10/dist-packages (from spacy<3.6.0,>=3.5.0->en-core-web-md==3.5.0) (1.0.9)\n",
      "Requirement already satisfied: cymem<2.1.0,>=2.0.2 in /usr/local/lib/python3.10/dist-packages (from spacy<3.6.0,>=3.5.0->en-core-web-md==3.5.0) (2.0.7)\n",
      "Requirement already satisfied: preshed<3.1.0,>=3.0.2 in /usr/local/lib/python3.10/dist-packages (from spacy<3.6.0,>=3.5.0->en-core-web-md==3.5.0) (3.0.8)\n",
      "Requirement already satisfied: thinc<8.2.0,>=8.1.8 in /usr/local/lib/python3.10/dist-packages (from spacy<3.6.0,>=3.5.0->en-core-web-md==3.5.0) (8.1.10)\n",
      "Requirement already satisfied: wasabi<1.2.0,>=0.9.1 in /usr/local/lib/python3.10/dist-packages (from spacy<3.6.0,>=3.5.0->en-core-web-md==3.5.0) (1.1.2)\n",
      "Requirement already satisfied: srsly<3.0.0,>=2.4.3 in /usr/local/lib/python3.10/dist-packages (from spacy<3.6.0,>=3.5.0->en-core-web-md==3.5.0) (2.4.7)\n",
      "Requirement already satisfied: catalogue<2.1.0,>=2.0.6 in /usr/local/lib/python3.10/dist-packages (from spacy<3.6.0,>=3.5.0->en-core-web-md==3.5.0) (2.0.9)\n",
      "Requirement already satisfied: typer<0.10.0,>=0.3.0 in /usr/local/lib/python3.10/dist-packages (from spacy<3.6.0,>=3.5.0->en-core-web-md==3.5.0) (0.9.0)\n",
      "Requirement already satisfied: pathy>=0.10.0 in /usr/local/lib/python3.10/dist-packages (from spacy<3.6.0,>=3.5.0->en-core-web-md==3.5.0) (0.10.2)\n",
      "Requirement already satisfied: smart-open<7.0.0,>=5.2.1 in /usr/local/lib/python3.10/dist-packages (from spacy<3.6.0,>=3.5.0->en-core-web-md==3.5.0) (6.3.0)\n",
      "Requirement already satisfied: tqdm<5.0.0,>=4.38.0 in /usr/local/lib/python3.10/dist-packages (from spacy<3.6.0,>=3.5.0->en-core-web-md==3.5.0) (4.65.0)\n",
      "Requirement already satisfied: numpy>=1.15.0 in /usr/local/lib/python3.10/dist-packages (from spacy<3.6.0,>=3.5.0->en-core-web-md==3.5.0) (1.22.4)\n",
      "Requirement already satisfied: requests<3.0.0,>=2.13.0 in /usr/local/lib/python3.10/dist-packages (from spacy<3.6.0,>=3.5.0->en-core-web-md==3.5.0) (2.27.1)\n",
      "Requirement already satisfied: pydantic!=1.8,!=1.8.1,<1.11.0,>=1.7.4 in /usr/local/lib/python3.10/dist-packages (from spacy<3.6.0,>=3.5.0->en-core-web-md==3.5.0) (1.10.12)\n",
      "Requirement already satisfied: jinja2 in /usr/local/lib/python3.10/dist-packages (from spacy<3.6.0,>=3.5.0->en-core-web-md==3.5.0) (3.1.2)\n",
      "Requirement already satisfied: setuptools in /usr/local/lib/python3.10/dist-packages (from spacy<3.6.0,>=3.5.0->en-core-web-md==3.5.0) (67.7.2)\n",
      "Requirement already satisfied: packaging>=20.0 in /usr/local/lib/python3.10/dist-packages (from spacy<3.6.0,>=3.5.0->en-core-web-md==3.5.0) (23.1)\n",
      "Requirement already satisfied: langcodes<4.0.0,>=3.2.0 in /usr/local/lib/python3.10/dist-packages (from spacy<3.6.0,>=3.5.0->en-core-web-md==3.5.0) (3.3.0)\n",
      "Requirement already satisfied: typing-extensions>=4.2.0 in /usr/local/lib/python3.10/dist-packages (from pydantic!=1.8,!=1.8.1,<1.11.0,>=1.7.4->spacy<3.6.0,>=3.5.0->en-core-web-md==3.5.0) (4.7.1)\n",
      "Requirement already satisfied: urllib3<1.27,>=1.21.1 in /usr/local/lib/python3.10/dist-packages (from requests<3.0.0,>=2.13.0->spacy<3.6.0,>=3.5.0->en-core-web-md==3.5.0) (1.26.16)\n",
      "Requirement already satisfied: certifi>=2017.4.17 in /usr/local/lib/python3.10/dist-packages (from requests<3.0.0,>=2.13.0->spacy<3.6.0,>=3.5.0->en-core-web-md==3.5.0) (2023.7.22)\n",
      "Requirement already satisfied: charset-normalizer~=2.0.0 in /usr/local/lib/python3.10/dist-packages (from requests<3.0.0,>=2.13.0->spacy<3.6.0,>=3.5.0->en-core-web-md==3.5.0) (2.0.12)\n",
      "Requirement already satisfied: idna<4,>=2.5 in /usr/local/lib/python3.10/dist-packages (from requests<3.0.0,>=2.13.0->spacy<3.6.0,>=3.5.0->en-core-web-md==3.5.0) (3.4)\n",
      "Requirement already satisfied: blis<0.8.0,>=0.7.8 in /usr/local/lib/python3.10/dist-packages (from thinc<8.2.0,>=8.1.8->spacy<3.6.0,>=3.5.0->en-core-web-md==3.5.0) (0.7.10)\n",
      "Requirement already satisfied: confection<1.0.0,>=0.0.1 in /usr/local/lib/python3.10/dist-packages (from thinc<8.2.0,>=8.1.8->spacy<3.6.0,>=3.5.0->en-core-web-md==3.5.0) (0.1.0)\n",
      "Requirement already satisfied: click<9.0.0,>=7.1.1 in /usr/local/lib/python3.10/dist-packages (from typer<0.10.0,>=0.3.0->spacy<3.6.0,>=3.5.0->en-core-web-md==3.5.0) (8.1.6)\n",
      "Requirement already satisfied: MarkupSafe>=2.0 in /usr/local/lib/python3.10/dist-packages (from jinja2->spacy<3.6.0,>=3.5.0->en-core-web-md==3.5.0) (2.1.3)\n",
      "Installing collected packages: en-core-web-md\n",
      "Successfully installed en-core-web-md-3.5.0\n",
      "\u001b[38;5;2m✔ Download and installation successful\u001b[0m\n",
      "You can now load the package via spacy.load('en_core_web_md')\n"
     ]
    }
   ],
   "source": [
    "!python -m spacy download en_core_web_md"
   ]
  },
  {
   "cell_type": "code",
   "execution_count": null,
   "id": "WU-OAQ_x079T",
   "metadata": {
    "id": "WU-OAQ_x079T"
   },
   "outputs": [],
   "source": [
    "import numpy as np\n",
    "import spacy\n",
    "from sklearn.linear_model import LogisticRegression\n",
    "from sklearn.model_selection import train_test_split\n",
    "\n",
    "# Load the spaCy model\n",
    "nlp = spacy.load(\"en_core_web_md\")\n",
    "\n",
    "def spacy_sum_vectors(phrase, nlp):\n",
    "    dec = nlp(phrase)\n",
    "    return sum(w.vector for w in dec)\n",
    "\n",
    "def spacy_word2vec_features(X, nlp):\n",
    "    feats = np.vstack([spacy_sum_vectors(p, nlp) for p in X])\n",
    "    return feats\n",
    "\n",
    "# Assuming `X_train` and `X_test` are lists of sentences/phrases\n",
    "# Split the data into training and testing sets\n",
    "X_train, X_test, y_train, y_test = train_test_split(balanced_data['text'].values, one_hot_encoded_subset, test_size=0.1, random_state=42)\n",
    "\n",
    "continue_wv = True  # You can set this to False if you want to skip using spaCy for word vectors\n",
    "\n",
    "if continue_wv:\n",
    "    try:\n",
    "        wv_train_feat2 = spacy_word2vec_features(X_train, nlp)\n",
    "        print(wv_train_feat2.shape)\n",
    "    except ValueError as e:\n",
    "        print(e)\n",
    "        continue_wv = False"
   ]
  },
  {
   "cell_type": "code",
   "execution_count": null,
   "id": "Zj26tFGRzphp",
   "metadata": {
    "colab": {
     "base_uri": "https://localhost:8080/"
    },
    "id": "Zj26tFGRzphp",
    "outputId": "2239692c-32fa-4e0f-eed0-e40bfe54ed0d"
   },
   "outputs": [
    {
     "name": "stderr",
     "output_type": "stream",
     "text": [
      "/usr/local/lib/python3.10/dist-packages/sklearn/linear_model/_logistic.py:458: ConvergenceWarning: lbfgs failed to converge (status=1):\n",
      "STOP: TOTAL NO. of ITERATIONS REACHED LIMIT.\n",
      "\n",
      "Increase the number of iterations (max_iter) or scale the data as shown in:\n",
      "    https://scikit-learn.org/stable/modules/preprocessing.html\n",
      "Please also refer to the documentation for alternative solver options:\n",
      "    https://scikit-learn.org/stable/modules/linear_model.html#logistic-regression\n",
      "  n_iter_i = _check_optimize_result(\n"
     ]
    },
    {
     "name": "stdout",
     "output_type": "stream",
     "text": [
      "0.4431438127090301\n"
     ]
    }
   ],
   "source": [
    "from sklearn.linear_model import LogisticRegression\n",
    "if continue_wv:\n",
    "    # Convert y_train to 1D array of integers\n",
    "    y_train_labels = np.argmax(y_train.values, axis=1)\n",
    "\n",
    "    clfwv2 = LogisticRegression(solver='lbfgs', max_iter=1000)\n",
    "    clfwv2.fit(wv_train_feat2, y_train_labels)\n",
    "\n",
    "if continue_wv:\n",
    "    wv_test_feat2 = spacy_word2vec_features(X_test, nlp)\n",
    "    y_test_labels = np.argmax(y_test.values, axis=1)\n",
    "    print(clfwv2.score(wv_test_feat2, y_test_labels))"
   ]
  },
  {
   "cell_type": "code",
   "execution_count": null,
   "id": "WB0P936I1GzS",
   "metadata": {
    "colab": {
     "base_uri": "https://localhost:8080/"
    },
    "id": "WB0P936I1GzS",
    "outputId": "9a8f81d0-5ef3-45cf-ad41-a6af49ac5d3c"
   },
   "outputs": [
    {
     "name": "stdout",
     "output_type": "stream",
     "text": [
      "Weighted F1 Score: 0.44299614376505936\n",
      "Weighted Jaccard Coefficient: 0.2980121620255949\n",
      "Accuracy: 0.4431438127090301\n",
      "Weighted Recall: 0.4431438127090301\n",
      "Weighted Precision: 0.45025856454697144\n"
     ]
    }
   ],
   "source": [
    "from sklearn.metrics import f1_score, jaccard_score, accuracy_score, recall_score, precision_score\n",
    "y_pred_labels = clfwv2.predict(wv_test_feat2)\n",
    "\n",
    "# Calculate metrics\n",
    "f1 = f1_score(y_test_labels, y_pred_labels, average='weighted')\n",
    "jaccard = jaccard_score(y_test_labels, y_pred_labels, average='weighted')\n",
    "accuracy = accuracy_score(y_test_labels, y_pred_labels)\n",
    "recall = recall_score(y_test_labels, y_pred_labels, average='weighted')\n",
    "precision = precision_score(y_test_labels, y_pred_labels, average='weighted')\n",
    "\n",
    "# Print metrics\n",
    "print('Weighted F1 Score:', f1)\n",
    "print('Weighted Jaccard Coefficient:', jaccard)\n",
    "print('Accuracy:', accuracy)\n",
    "print('Weighted Recall:', recall)\n",
    "print('Weighted Precision:', precision)\n"
   ]
  },
  {
   "cell_type": "code",
   "execution_count": null,
   "id": "4nlororE3Jkf",
   "metadata": {
    "colab": {
     "base_uri": "https://localhost:8080/"
    },
    "id": "4nlororE3Jkf",
    "outputId": "4aa78893-a83f-4254-d4fb-a632c63320b8"
   },
   "outputs": [
    {
     "name": "stdout",
     "output_type": "stream",
     "text": [
      "--------------------------------------------------\n",
      "Percentage of non-tagged questions for Word2vec and Logistic Regression model\n",
      "--------------------------------------------------\n",
      "Word2vec and Logistic Regression: 4.68%\n",
      "\n"
     ]
    },
    {
     "data": {
      "text/plain": [
       "4.68"
      ]
     },
     "execution_count": 68,
     "metadata": {},
     "output_type": "execute_result"
    }
   ],
   "source": [
    "# Assuming you have y_test_labels and y_pred_labels\n",
    "show_non_predicted_tags('Word2vec and Logistic Regression', y_pred_labels)\n"
   ]
  },
  {
   "cell_type": "code",
   "execution_count": null,
   "id": "al1bWxG14ANs",
   "metadata": {
    "colab": {
     "base_uri": "https://localhost:8080/"
    },
    "id": "al1bWxG14ANs",
    "outputId": "e948a302-b6ff-4b60-9247-1158e368235e"
   },
   "outputs": [
    {
     "data": {
      "text/plain": [
       "['clfwv2_model.pkl']"
      ]
     },
     "execution_count": 69,
     "metadata": {},
     "output_type": "execute_result"
    }
   ],
   "source": [
    "import joblib\n",
    "from google.colab import files\n",
    "\n",
    "# Save the trained model to the Colab file system\n",
    "filename = 'clfwv2_model.pkl'\n",
    "joblib.dump(clfwv2, filename)"
   ]
  },
  {
   "cell_type": "code",
   "execution_count": null,
   "id": "XeBDrxZtoC5o",
   "metadata": {
    "id": "XeBDrxZtoC5o"
   },
   "outputs": [],
   "source": [
    "import joblib\n",
    "\n",
    "# Load the trained Word2Vec features\n",
    "train_feat_filename = 'wv_train_feat2.pkl'\n",
    "test_feat_filename = 'wv_test_feat2.pkl'\n",
    "\n",
    "# Load wv_train_feat2\n",
    "wv_train_feat2 = joblib.load(train_feat_filename)\n",
    "\n",
    "# Load wv_test_feat2\n",
    "wv_test_feat2 = joblib.load(test_feat_filename)\n"
   ]
  },
  {
   "cell_type": "code",
   "execution_count": null,
   "id": "A5XTrfOwYxnC",
   "metadata": {
    "colab": {
     "base_uri": "https://localhost:8080/",
     "height": 156
    },
    "id": "A5XTrfOwYxnC",
    "outputId": "a8fb5708-aac0-4870-d37a-f40e7019efb6"
   },
   "outputs": [
    {
     "data": {
      "text/html": [
       "<style>#sk-container-id-1 {color: black;}#sk-container-id-1 pre{padding: 0;}#sk-container-id-1 div.sk-toggleable {background-color: white;}#sk-container-id-1 label.sk-toggleable__label {cursor: pointer;display: block;width: 100%;margin-bottom: 0;padding: 0.3em;box-sizing: border-box;text-align: center;}#sk-container-id-1 label.sk-toggleable__label-arrow:before {content: \"▸\";float: left;margin-right: 0.25em;color: #696969;}#sk-container-id-1 label.sk-toggleable__label-arrow:hover:before {color: black;}#sk-container-id-1 div.sk-estimator:hover label.sk-toggleable__label-arrow:before {color: black;}#sk-container-id-1 div.sk-toggleable__content {max-height: 0;max-width: 0;overflow: hidden;text-align: left;background-color: #f0f8ff;}#sk-container-id-1 div.sk-toggleable__content pre {margin: 0.2em;color: black;border-radius: 0.25em;background-color: #f0f8ff;}#sk-container-id-1 input.sk-toggleable__control:checked~div.sk-toggleable__content {max-height: 200px;max-width: 100%;overflow: auto;}#sk-container-id-1 input.sk-toggleable__control:checked~label.sk-toggleable__label-arrow:before {content: \"▾\";}#sk-container-id-1 div.sk-estimator input.sk-toggleable__control:checked~label.sk-toggleable__label {background-color: #d4ebff;}#sk-container-id-1 div.sk-label input.sk-toggleable__control:checked~label.sk-toggleable__label {background-color: #d4ebff;}#sk-container-id-1 input.sk-hidden--visually {border: 0;clip: rect(1px 1px 1px 1px);clip: rect(1px, 1px, 1px, 1px);height: 1px;margin: -1px;overflow: hidden;padding: 0;position: absolute;width: 1px;}#sk-container-id-1 div.sk-estimator {font-family: monospace;background-color: #f0f8ff;border: 1px dotted black;border-radius: 0.25em;box-sizing: border-box;margin-bottom: 0.5em;}#sk-container-id-1 div.sk-estimator:hover {background-color: #d4ebff;}#sk-container-id-1 div.sk-parallel-item::after {content: \"\";width: 100%;border-bottom: 1px solid gray;flex-grow: 1;}#sk-container-id-1 div.sk-label:hover label.sk-toggleable__label {background-color: #d4ebff;}#sk-container-id-1 div.sk-serial::before {content: \"\";position: absolute;border-left: 1px solid gray;box-sizing: border-box;top: 0;bottom: 0;left: 50%;z-index: 0;}#sk-container-id-1 div.sk-serial {display: flex;flex-direction: column;align-items: center;background-color: white;padding-right: 0.2em;padding-left: 0.2em;position: relative;}#sk-container-id-1 div.sk-item {position: relative;z-index: 1;}#sk-container-id-1 div.sk-parallel {display: flex;align-items: stretch;justify-content: center;background-color: white;position: relative;}#sk-container-id-1 div.sk-item::before, #sk-container-id-1 div.sk-parallel-item::before {content: \"\";position: absolute;border-left: 1px solid gray;box-sizing: border-box;top: 0;bottom: 0;left: 50%;z-index: -1;}#sk-container-id-1 div.sk-parallel-item {display: flex;flex-direction: column;z-index: 1;position: relative;background-color: white;}#sk-container-id-1 div.sk-parallel-item:first-child::after {align-self: flex-end;width: 50%;}#sk-container-id-1 div.sk-parallel-item:last-child::after {align-self: flex-start;width: 50%;}#sk-container-id-1 div.sk-parallel-item:only-child::after {width: 0;}#sk-container-id-1 div.sk-dashed-wrapped {border: 1px dashed gray;margin: 0 0.4em 0.5em 0.4em;box-sizing: border-box;padding-bottom: 0.4em;background-color: white;}#sk-container-id-1 div.sk-label label {font-family: monospace;font-weight: bold;display: inline-block;line-height: 1.2em;}#sk-container-id-1 div.sk-label-container {text-align: center;}#sk-container-id-1 div.sk-container {/* jupyter's `normalize.less` sets `[hidden] { display: none; }` but bootstrap.min.css set `[hidden] { display: none !important; }` so we also need the `!important` here to be able to override the default hidden behavior on the sphinx rendered scikit-learn.org. See: https://github.com/scikit-learn/scikit-learn/issues/21755 */display: inline-block !important;position: relative;}#sk-container-id-1 div.sk-text-repr-fallback {display: none;}</style><div id=\"sk-container-id-1\" class=\"sk-top-container\"><div class=\"sk-text-repr-fallback\"><pre>GridSearchCV(cv=5,\n",
       "             estimator=OneVsRestClassifier(estimator=LogisticRegression()),\n",
       "             n_jobs=-1,\n",
       "             param_grid={&#x27;estimator__C&#x27;: [10, 1.0, 0.1],\n",
       "                         &#x27;estimator__dual&#x27;: [False],\n",
       "                         &#x27;estimator__penalty&#x27;: [&#x27;l1&#x27;, &#x27;l2&#x27;],\n",
       "                         &#x27;estimator__solver&#x27;: [&#x27;liblinear&#x27;]},\n",
       "             return_train_score=True, scoring=&#x27;f1_weighted&#x27;)</pre><b>In a Jupyter environment, please rerun this cell to show the HTML representation or trust the notebook. <br />On GitHub, the HTML representation is unable to render, please try loading this page with nbviewer.org.</b></div><div class=\"sk-container\" hidden><div class=\"sk-item sk-dashed-wrapped\"><div class=\"sk-label-container\"><div class=\"sk-label sk-toggleable\"><input class=\"sk-toggleable__control sk-hidden--visually\" id=\"sk-estimator-id-1\" type=\"checkbox\" ><label for=\"sk-estimator-id-1\" class=\"sk-toggleable__label sk-toggleable__label-arrow\">GridSearchCV</label><div class=\"sk-toggleable__content\"><pre>GridSearchCV(cv=5,\n",
       "             estimator=OneVsRestClassifier(estimator=LogisticRegression()),\n",
       "             n_jobs=-1,\n",
       "             param_grid={&#x27;estimator__C&#x27;: [10, 1.0, 0.1],\n",
       "                         &#x27;estimator__dual&#x27;: [False],\n",
       "                         &#x27;estimator__penalty&#x27;: [&#x27;l1&#x27;, &#x27;l2&#x27;],\n",
       "                         &#x27;estimator__solver&#x27;: [&#x27;liblinear&#x27;]},\n",
       "             return_train_score=True, scoring=&#x27;f1_weighted&#x27;)</pre></div></div></div><div class=\"sk-parallel\"><div class=\"sk-parallel-item\"><div class=\"sk-item\"><div class=\"sk-label-container\"><div class=\"sk-label sk-toggleable\"><input class=\"sk-toggleable__control sk-hidden--visually\" id=\"sk-estimator-id-2\" type=\"checkbox\" ><label for=\"sk-estimator-id-2\" class=\"sk-toggleable__label sk-toggleable__label-arrow\">estimator: OneVsRestClassifier</label><div class=\"sk-toggleable__content\"><pre>OneVsRestClassifier(estimator=LogisticRegression())</pre></div></div></div><div class=\"sk-serial\"><div class=\"sk-item sk-dashed-wrapped\"><div class=\"sk-parallel\"><div class=\"sk-parallel-item\"><div class=\"sk-item\"><div class=\"sk-label-container\"><div class=\"sk-label sk-toggleable\"><input class=\"sk-toggleable__control sk-hidden--visually\" id=\"sk-estimator-id-3\" type=\"checkbox\" ><label for=\"sk-estimator-id-3\" class=\"sk-toggleable__label sk-toggleable__label-arrow\">estimator: LogisticRegression</label><div class=\"sk-toggleable__content\"><pre>LogisticRegression()</pre></div></div></div><div class=\"sk-serial\"><div class=\"sk-item\"><div class=\"sk-estimator sk-toggleable\"><input class=\"sk-toggleable__control sk-hidden--visually\" id=\"sk-estimator-id-4\" type=\"checkbox\" ><label for=\"sk-estimator-id-4\" class=\"sk-toggleable__label sk-toggleable__label-arrow\">LogisticRegression</label><div class=\"sk-toggleable__content\"><pre>LogisticRegression()</pre></div></div></div></div></div></div></div></div></div></div></div></div></div></div></div>"
      ],
      "text/plain": [
       "GridSearchCV(cv=5,\n",
       "             estimator=OneVsRestClassifier(estimator=LogisticRegression()),\n",
       "             n_jobs=-1,\n",
       "             param_grid={'estimator__C': [10, 1.0, 0.1],\n",
       "                         'estimator__dual': [False],\n",
       "                         'estimator__penalty': ['l1', 'l2'],\n",
       "                         'estimator__solver': ['liblinear']},\n",
       "             return_train_score=True, scoring='f1_weighted')"
      ]
     },
     "execution_count": 21,
     "metadata": {},
     "output_type": "execute_result"
    }
   ],
   "source": [
    "import pickle\n",
    "from sklearn.linear_model import LogisticRegression\n",
    "from sklearn.model_selection import GridSearchCV\n",
    "from sklearn.multiclass import OneVsRestClassifier\n",
    "# Convert y_train to 1D array of integers\n",
    "y_train_labels = np.argmax(y_train.values, axis=1)\n",
    "# Initialize Logistic Regression with OneVsRest\n",
    "param_logit = {\n",
    "    \"estimator__C\": [10, 1.0, 0.1],\n",
    "    \"estimator__penalty\": [\"l1\", \"l2\"],\n",
    "    \"estimator__dual\": [False],\n",
    "    \"estimator__solver\": [\"liblinear\"]\n",
    "}\n",
    "\n",
    "multi_logit_cv = GridSearchCV(\n",
    "    OneVsRestClassifier(LogisticRegression()),\n",
    "    param_grid=param_logit,\n",
    "    n_jobs=-1,\n",
    "    cv=5,\n",
    "    scoring=\"f1_weighted\",\n",
    "    return_train_score=True,\n",
    "    refit=True\n",
    ")\n",
    "multi_logit_cv.fit(wv_train_feat2,y_train_labels)"
   ]
  },
  {
   "cell_type": "code",
   "execution_count": null,
   "id": "XuOhRgU2apyx",
   "metadata": {
    "id": "XuOhRgU2apyx"
   },
   "outputs": [],
   "source": [
    "# Save the best model with pickle\n",
    "best_logit_model = multi_logit_cv.best_estimator_\n",
    "with open(\"best_logit_model.pkl\", \"wb\") as f:\n",
    "    pickle.dump(best_logit_model, f)"
   ]
  },
  {
   "cell_type": "code",
   "execution_count": null,
   "id": "ks4wEDE8O6dO",
   "metadata": {
    "id": "ks4wEDE8O6dO"
   },
   "outputs": [],
   "source": [
    "y_test_labels = np.argmax(y_test.values, axis=1)"
   ]
  },
  {
   "cell_type": "code",
   "execution_count": null,
   "id": "IFy_zCe6arOH",
   "metadata": {
    "colab": {
     "base_uri": "https://localhost:8080/"
    },
    "id": "IFy_zCe6arOH",
    "outputId": "b5eec4ed-4d99-403c-d369-ef108c13852c"
   },
   "outputs": [
    {
     "name": "stdout",
     "output_type": "stream",
     "text": [
      "Weighted F1 Score: 0.47756255495657535\n",
      "Weighted Jaccard Coefficient: 0.3286352280945145\n",
      "Accuracy: 0.48327759197324416\n",
      "Weighted Recall: 0.48327759197324416\n",
      "Weighted Precision: 0.4798043772478381\n"
     ]
    }
   ],
   "source": [
    "from sklearn.metrics import f1_score, jaccard_score, accuracy_score, recall_score, precision_score\n",
    "y_pred_labels = best_logit_model.predict(wv_test_feat2)\n",
    "\n",
    "# Calculate metrics\n",
    "f1 = f1_score(y_test_labels, y_pred_labels, average='weighted')\n",
    "jaccard = jaccard_score(y_test_labels, y_pred_labels, average='weighted')\n",
    "accuracy = accuracy_score(y_test_labels, y_pred_labels)\n",
    "recall = recall_score(y_test_labels, y_pred_labels, average='weighted')\n",
    "precision = precision_score(y_test_labels, y_pred_labels, average='weighted')\n",
    "\n",
    "# Print metrics\n",
    "print('Weighted F1 Score:', f1)\n",
    "print('Weighted Jaccard Coefficient:', jaccard)\n",
    "print('Accuracy:', accuracy)\n",
    "print('Weighted Recall:', recall)\n",
    "print('Weighted Precision:', precision)\n"
   ]
  },
  {
   "cell_type": "code",
   "execution_count": null,
   "id": "dKJmgmZgazCt",
   "metadata": {
    "colab": {
     "base_uri": "https://localhost:8080/"
    },
    "id": "dKJmgmZgazCt",
    "outputId": "dde374e4-b950-481f-ca8e-820abd1edb6d"
   },
   "outputs": [
    {
     "name": "stdout",
     "output_type": "stream",
     "text": [
      "--------------------------------------------------\n",
      "Percentage of non-tagged questions for Word2vec and Logistic Regression model\n",
      "--------------------------------------------------\n",
      "Word2vec and Logistic Regression: 2.84%\n",
      "\n"
     ]
    },
    {
     "data": {
      "text/plain": [
       "2.84"
      ]
     },
     "execution_count": 26,
     "metadata": {},
     "output_type": "execute_result"
    }
   ],
   "source": [
    "# Assuming you have y_test_labels and y_pred_labels\n",
    "show_non_predicted_tags('Word2vec and Logistic Regression', y_pred_labels)"
   ]
  },
  {
   "cell_type": "code",
   "execution_count": null,
   "id": "nNxWF4A9a5hD",
   "metadata": {
    "colab": {
     "base_uri": "https://localhost:8080/"
    },
    "id": "nNxWF4A9a5hD",
    "outputId": "5fde6845-feac-425f-98ba-e6696b321235"
   },
   "outputs": [
    {
     "name": "stdout",
     "output_type": "stream",
     "text": [
      "Predicted Tags\tTrue Tags\n",
      "-----------------------------\n",
      "algorithm\t\talgorithm\n",
      "iphone\t\tiphone\n",
      "javascript\t\tjavascript\n",
      "php\t\tpython\n",
      "sql\t\tvisual-studio\n",
      "c\t\talgorithm\n",
      "html\t\thtml\n",
      "sql\t\tsql-server\n",
      "python\t\tpython\n",
      "java\t\tjava\n",
      "html\t\thtml\n",
      "java\t\tc++\n",
      "jquery\t\tjavascript\n",
      "sql-server\t\tperformance\n",
      "algorithm\t\talgorithm\n",
      "performance\t\tphp\n",
      "css\t\tiphone\n",
      ".net\t\t.net\n",
      "asp.net\t\tasp.net\n",
      "asp.net\t\tphp\n"
     ]
    }
   ],
   "source": [
    "print(\"Predicted Tags\\tTrue Tags\")\n",
    "print(\"-----------------------------\")\n",
    "for i in range(20):\n",
    "    predicted_tag = tags_list[y_pred_labels[i]][0]\n",
    "    true_tag = tags_list[y_test_labels[i]][0]\n",
    "    print(f\"{predicted_tag}\\t\\t{true_tag}\")"
   ]
  },
  {
   "cell_type": "code",
   "execution_count": 33,
   "id": "zIi74_PkEYsw",
   "metadata": {
    "id": "zIi74_PkEYsw"
   },
   "outputs": [],
   "source": [
    "model_name = \"Word2vec With Logistic Regression\"\n",
    "\n",
    "metrics_scores = {\n",
    "    \"Weighted F1 Score\": 0.47756255495657535,\n",
    "    \"Weighted Jaccard Coefficient\": 0.3286352280945145,\n",
    "    \"Accuracy\": 0.48327759197324416,\n",
    "    \"Weighted Recall\": 0.48327759197324416,\n",
    "    \"Weighted Precision\": 0.4798043772478381\n",
    "}\n",
    "\n",
    "percentage_non_tagged = 2.84\n"
   ]
  },
  {
   "cell_type": "code",
   "execution_count": 34,
   "id": "QMnpe9hUEcZS",
   "metadata": {
    "colab": {
     "base_uri": "https://localhost:8080/",
     "height": 607
    },
    "id": "QMnpe9hUEcZS",
    "outputId": "cdf72635-c4c0-4eb8-d27b-b83c3328cfc0"
   },
   "outputs": [
    {
     "data": {
      "image/png": "[encoded data removed]",
      "text/plain": [
       "<Figure size 1000x600 with 1 Axes>"
      ]
     },
     "metadata": {},
     "output_type": "display_data"
    }
   ],
   "source": [
    "plot_metrics_scores(model_name, metrics_scores)"
   ]
  },
  {
   "cell_type": "code",
   "execution_count": 35,
   "id": "lurykOWtEgjI",
   "metadata": {
    "colab": {
     "base_uri": "https://localhost:8080/",
     "height": 607
    },
    "id": "lurykOWtEgjI",
    "outputId": "3fabdc6e-934a-4279-9dcd-0572f69a73dc"
   },
   "outputs": [
    {
     "data": {
      "image/png": "[encoded data removed]",
      "text/plain": [
       "<Figure size 600x600 with 1 Axes>"
      ]
     },
     "metadata": {},
     "output_type": "display_data"
    }
   ],
   "source": [
    "plot_non_tagged_percentage(percentage_non_tagged)"
   ]
  },
  {
   "cell_type": "markdown",
   "id": "C157JvTbcG8c",
   "metadata": {
    "id": "C157JvTbcG8c"
   },
   "source": [
    "# KERAS"
   ]
  },
  {
   "cell_type": "code",
   "execution_count": null,
   "id": "dec45750",
   "metadata": {
    "colab": {
     "base_uri": "https://localhost:8080/"
    },
    "id": "dec45750",
    "outputId": "231a0af6-0397-47de-ecf5-5583c9517a57"
   },
   "outputs": [
    {
     "name": "stdout",
     "output_type": "stream",
     "text": [
      "Collecting transformers\n",
      "  Downloading transformers-4.31.0-py3-none-any.whl (7.4 MB)\n",
      "\u001b[2K     \u001b[90m━━━━━━━━━━━━━━━━━━━━━━━━━━━━━━━━━━━━━━━━\u001b[0m \u001b[32m7.4/7.4 MB\u001b[0m \u001b[31m14.3 MB/s\u001b[0m eta \u001b[36m0:00:00\u001b[0m\n",
      "\u001b[?25hRequirement already satisfied: filelock in /usr/local/lib/python3.10/dist-packages (from transformers) (3.12.2)\n",
      "Collecting huggingface-hub<1.0,>=0.14.1 (from transformers)\n",
      "  Downloading huggingface_hub-0.16.4-py3-none-any.whl (268 kB)\n",
      "\u001b[2K     \u001b[90m━━━━━━━━━━━━━━━━━━━━━━━━━━━━━━━━━━━━━━\u001b[0m \u001b[32m268.8/268.8 kB\u001b[0m \u001b[31m33.2 MB/s\u001b[0m eta \u001b[36m0:00:00\u001b[0m\n",
      "\u001b[?25hRequirement already satisfied: numpy>=1.17 in /usr/local/lib/python3.10/dist-packages (from transformers) (1.22.4)\n",
      "Requirement already satisfied: packaging>=20.0 in /usr/local/lib/python3.10/dist-packages (from transformers) (23.1)\n",
      "Requirement already satisfied: pyyaml>=5.1 in /usr/local/lib/python3.10/dist-packages (from transformers) (6.0.1)\n",
      "Requirement already satisfied: regex!=2019.12.17 in /usr/local/lib/python3.10/dist-packages (from transformers) (2022.10.31)\n",
      "Requirement already satisfied: requests in /usr/local/lib/python3.10/dist-packages (from transformers) (2.27.1)\n",
      "Collecting tokenizers!=0.11.3,<0.14,>=0.11.1 (from transformers)\n",
      "  Downloading tokenizers-0.13.3-cp310-cp310-manylinux_2_17_x86_64.manylinux2014_x86_64.whl (7.8 MB)\n",
      "\u001b[2K     \u001b[90m━━━━━━━━━━━━━━━━━━━━━━━━━━━━━━━━━━━━━━━━\u001b[0m \u001b[32m7.8/7.8 MB\u001b[0m \u001b[31m49.7 MB/s\u001b[0m eta \u001b[36m0:00:00\u001b[0m\n",
      "\u001b[?25hCollecting safetensors>=0.3.1 (from transformers)\n",
      "  Downloading safetensors-0.3.1-cp310-cp310-manylinux_2_17_x86_64.manylinux2014_x86_64.whl (1.3 MB)\n",
      "\u001b[2K     \u001b[90m━━━━━━━━━━━━━━━━━━━━━━━━━━━━━━━━━━━━━━━━\u001b[0m \u001b[32m1.3/1.3 MB\u001b[0m \u001b[31m54.2 MB/s\u001b[0m eta \u001b[36m0:00:00\u001b[0m\n",
      "\u001b[?25hRequirement already satisfied: tqdm>=4.27 in /usr/local/lib/python3.10/dist-packages (from transformers) (4.65.0)\n",
      "Requirement already satisfied: fsspec in /usr/local/lib/python3.10/dist-packages (from huggingface-hub<1.0,>=0.14.1->transformers) (2023.6.0)\n",
      "Requirement already satisfied: typing-extensions>=3.7.4.3 in /usr/local/lib/python3.10/dist-packages (from huggingface-hub<1.0,>=0.14.1->transformers) (4.7.1)\n",
      "Requirement already satisfied: urllib3<1.27,>=1.21.1 in /usr/local/lib/python3.10/dist-packages (from requests->transformers) (1.26.16)\n",
      "Requirement already satisfied: certifi>=2017.4.17 in /usr/local/lib/python3.10/dist-packages (from requests->transformers) (2023.7.22)\n",
      "Requirement already satisfied: charset-normalizer~=2.0.0 in /usr/local/lib/python3.10/dist-packages (from requests->transformers) (2.0.12)\n",
      "Requirement already satisfied: idna<4,>=2.5 in /usr/local/lib/python3.10/dist-packages (from requests->transformers) (3.4)\n",
      "Installing collected packages: tokenizers, safetensors, huggingface-hub, transformers\n",
      "Successfully installed huggingface-hub-0.16.4 safetensors-0.3.1 tokenizers-0.13.3 transformers-4.31.0\n"
     ]
    }
   ],
   "source": [
    "pip install transformers"
   ]
  },
  {
   "cell_type": "code",
   "execution_count": null,
   "id": "DuI7Wkyomaec",
   "metadata": {
    "colab": {
     "base_uri": "https://localhost:8080/"
    },
    "id": "DuI7Wkyomaec",
    "outputId": "0e00355d-5b97-4156-fbec-e44c530428ff"
   },
   "outputs": [
    {
     "name": "stdout",
     "output_type": "stream",
     "text": [
      "Model: \"model_4\"\n",
      "_________________________________________________________________\n",
      " Layer (type)                Output Shape              Param #   \n",
      "=================================================================\n",
      " input_5 (InputLayer)        [(None, 31)]              0         \n",
      "                                                                 \n",
      " embedding_5 (Embedding)     (None, 31, 64)            64000     \n",
      "                                                                 \n",
      " bidirectional (Bidirectiona  (None, 128)              66048     \n",
      " l)                                                              \n",
      "                                                                 \n",
      " dense_9 (Dense)             (None, 64)                8256      \n",
      "                                                                 \n",
      " dense_10 (Dense)            (None, 20)                1300      \n",
      "                                                                 \n",
      "=================================================================\n",
      "Total params: 139,604\n",
      "Trainable params: 139,604\n",
      "Non-trainable params: 0\n",
      "_________________________________________________________________\n",
      "Epoch 1/20\n",
      "169/169 [==============================] - 26s 100ms/step - loss: 2.9928 - accuracy: 0.0959 - val_loss: 2.9888 - val_accuracy: 0.1120\n",
      "Epoch 2/20\n",
      "169/169 [==============================] - 6s 35ms/step - loss: 2.9581 - accuracy: 0.1420 - val_loss: 2.8669 - val_accuracy: 0.1104\n",
      "Epoch 3/20\n",
      "169/169 [==============================] - 3s 16ms/step - loss: 2.6961 - accuracy: 0.1583 - val_loss: 2.5722 - val_accuracy: 0.2074\n",
      "Epoch 4/20\n",
      "169/169 [==============================] - 3s 17ms/step - loss: 2.3521 - accuracy: 0.2480 - val_loss: 2.3105 - val_accuracy: 0.2692\n",
      "Epoch 5/20\n",
      "169/169 [==============================] - 3s 16ms/step - loss: 2.1275 - accuracy: 0.3224 - val_loss: 2.1981 - val_accuracy: 0.3194\n",
      "Epoch 6/20\n",
      "169/169 [==============================] - 2s 14ms/step - loss: 1.9814 - accuracy: 0.3712 - val_loss: 2.1064 - val_accuracy: 0.3445\n",
      "Epoch 7/20\n",
      "169/169 [==============================] - 2s 15ms/step - loss: 1.8605 - accuracy: 0.4110 - val_loss: 2.0803 - val_accuracy: 0.3645\n",
      "Epoch 8/20\n",
      "169/169 [==============================] - 3s 18ms/step - loss: 1.7706 - accuracy: 0.4350 - val_loss: 2.0083 - val_accuracy: 0.3712\n",
      "Epoch 9/20\n",
      "169/169 [==============================] - 3s 15ms/step - loss: 1.6894 - accuracy: 0.4619 - val_loss: 1.9644 - val_accuracy: 0.3997\n",
      "Epoch 10/20\n",
      "169/169 [==============================] - 2s 14ms/step - loss: 1.6226 - accuracy: 0.4868 - val_loss: 1.9620 - val_accuracy: 0.3896\n",
      "Epoch 11/20\n",
      "169/169 [==============================] - 3s 16ms/step - loss: 1.5667 - accuracy: 0.5104 - val_loss: 1.9130 - val_accuracy: 0.4080\n",
      "Epoch 12/20\n",
      "169/169 [==============================] - 4s 23ms/step - loss: 1.5103 - accuracy: 0.5258 - val_loss: 1.9514 - val_accuracy: 0.4097\n",
      "Epoch 13/20\n",
      "169/169 [==============================] - 6s 37ms/step - loss: 1.4646 - accuracy: 0.5418 - val_loss: 1.8947 - val_accuracy: 0.4448\n",
      "Epoch 14/20\n",
      "169/169 [==============================] - 3s 19ms/step - loss: 1.4135 - accuracy: 0.5635 - val_loss: 1.9621 - val_accuracy: 0.4214\n",
      "Epoch 15/20\n",
      "169/169 [==============================] - 2s 14ms/step - loss: 1.3780 - accuracy: 0.5738 - val_loss: 1.8803 - val_accuracy: 0.4465\n",
      "Epoch 16/20\n",
      "169/169 [==============================] - 3s 16ms/step - loss: 1.3303 - accuracy: 0.5918 - val_loss: 1.9342 - val_accuracy: 0.4448\n",
      "Epoch 17/20\n",
      "169/169 [==============================] - 3s 16ms/step - loss: 1.2922 - accuracy: 0.6027 - val_loss: 1.9165 - val_accuracy: 0.4515\n",
      "Epoch 18/20\n",
      "169/169 [==============================] - 2s 14ms/step - loss: 1.2628 - accuracy: 0.6178 - val_loss: 1.8809 - val_accuracy: 0.4599\n",
      "Epoch 19/20\n",
      "169/169 [==============================] - 2s 14ms/step - loss: 1.2191 - accuracy: 0.6319 - val_loss: 1.8735 - val_accuracy: 0.4682\n",
      "Epoch 20/20\n",
      "169/169 [==============================] - 2s 15ms/step - loss: 1.1881 - accuracy: 0.6423 - val_loss: 1.8858 - val_accuracy: 0.4699\n",
      "19/19 [==============================] - 0s 8ms/step - loss: 1.8858 - accuracy: 0.4699\n",
      "Test Loss: 1.88576340675354\n",
      "Test Accuracy: 0.46989965438842773\n"
     ]
    }
   ],
   "source": [
    "import tensorflow as tf\n",
    "from tensorflow.keras.models import Model\n",
    "from tensorflow.keras.layers import Input, Dense, Dropout, Lambda\n",
    "from sklearn.model_selection import train_test_split\n",
    "from transformers import TFAutoModel, AutoTokenizer\n",
    "from tensorflow.keras.callbacks import EarlyStopping\n",
    "from tensorflow.keras.optimizers import Adam\n",
    "from sklearn.preprocessing import OneHotEncoder\n",
    "\n",
    "VOCAB_SIZE = 1000\n",
    "batch_size = 32\n",
    "encoder = tf.keras.layers.TextVectorization(\n",
    "    max_tokens=VOCAB_SIZE,\n",
    "    output_mode='int',  # Ensure output is integer-encoded\n",
    "    output_sequence_length=31,  # Set the maximum sequence length\n",
    "    pad_to_max_tokens=False,  # Allow variable sequence length\n",
    "    input_shape=(1,)  # Specify the input shape as 1D tensor\n",
    ")\n",
    "\n",
    "# Load and preprocess the data\n",
    "X_train, X_test, y_train, y_test = train_test_split(balanced_data['text_1'], one_hot_encoded_subset, test_size=0.1, random_state=42)\n",
    "\n",
    "encoder.adapt(X_train)\n",
    "train_encodings = encoder(X_train).numpy()\n",
    "test_encodings = encoder(X_test).numpy()\n",
    "\n",
    "# Create TensorFlow datasets\n",
    "train_dataset = tf.data.Dataset.from_tensor_slices((train_encodings, y_train)).shuffle(len(train_encodings)).batch(batch_size)\n",
    "test_dataset = tf.data.Dataset.from_tensor_slices((test_encodings, y_test)).batch(batch_size)\n",
    "\n",
    "# Create TensorFlow datasets\n",
    "train_dataset = tf.data.Dataset.from_tensor_slices((train_encodings, y_train)).shuffle(len(train_encodings)).batch(batch_size)\n",
    "test_dataset = tf.data.Dataset.from_tensor_slices((test_encodings, y_test)).batch(batch_size)\n",
    "\n",
    "# Define the model with the correct input shape and 20 output classes\n",
    "input_layer = Input(shape=(31,), dtype=tf.int32)\n",
    "embedding_layer = tf.keras.layers.Embedding(input_dim=len(encoder.get_vocabulary()), output_dim=64, mask_zero=True)(input_layer)\n",
    "lstm_layer = tf.keras.layers.Bidirectional(tf.keras.layers.LSTM(64))(embedding_layer)\n",
    "dense_layer = tf.keras.layers.Dense(64, activation='relu')(lstm_layer)\n",
    "output_layer = tf.keras.layers.Dense(20, activation='softmax')(dense_layer)  # Use softmax activation for multi-class classification\n",
    "\n",
    "model = Model(inputs=input_layer, outputs=output_layer)\n",
    "\n",
    "# Compile the model\n",
    "model.compile(loss='categorical_crossentropy',  # Use categorical cross-entropy for multi-class classification\n",
    "              optimizer=tf.keras.optimizers.Adam(1e-4),\n",
    "              metrics=['accuracy'])\n",
    "\n",
    "# Print the model summary\n",
    "model.summary()\n",
    "\n",
    "# Train the model\n",
    "history = model.fit(train_dataset, epochs=20, validation_data=test_dataset, validation_steps=len(test_dataset))\n",
    "\n",
    "# Evaluate the model on the test dataset\n",
    "test_loss, test_acc = model.evaluate(test_dataset)\n",
    "print('Test Loss:', test_loss)\n",
    "print('Test Accuracy:', test_acc)"
   ]
  },
  {
   "cell_type": "code",
   "execution_count": null,
   "id": "as6xi0iuPL4r",
   "metadata": {
    "colab": {
     "base_uri": "https://localhost:8080/"
    },
    "id": "as6xi0iuPL4r",
    "outputId": "6346290c-40dc-4ea8-abed-d0006043a5e8"
   },
   "outputs": [
    {
     "name": "stdout",
     "output_type": "stream",
     "text": [
      "19/19 [==============================] - 2s 4ms/step\n"
     ]
    }
   ],
   "source": [
    "# Make predictions on the test dataset\n",
    "y_pred = model.predict(test_dataset)"
   ]
  },
  {
   "cell_type": "code",
   "execution_count": null,
   "id": "-m0HfK22SUR-",
   "metadata": {
    "id": "-m0HfK22SUR-"
   },
   "outputs": [],
   "source": [
    "# Convert probabilities to binary predictions (0 or 1)\n",
    "y_pred_binary = (y_pred >= 0.5).astype(int)\n",
    "y_pred_binary\n",
    "y_test_binary = y_test.astype(int)"
   ]
  },
  {
   "cell_type": "code",
   "execution_count": null,
   "id": "CG44YpRTTM2g",
   "metadata": {
    "colab": {
     "base_uri": "https://localhost:8080/"
    },
    "id": "CG44YpRTTM2g",
    "outputId": "dab3fb8f-303b-4933-ac7b-382f26121ea3"
   },
   "outputs": [
    {
     "name": "stdout",
     "output_type": "stream",
     "text": [
      "Weighted F1 Score: 0.36100359077137506\n",
      "Weighted Jaccard Coefficient: 0.24211222676604885\n",
      "Weighted Precision: 0.6763513878825789\n",
      "Weighted Recall: 0.28929765886287623\n"
     ]
    },
    {
     "name": "stderr",
     "output_type": "stream",
     "text": [
      "/usr/local/lib/python3.10/dist-packages/sklearn/metrics/_classification.py:1344: UndefinedMetricWarning: Precision is ill-defined and being set to 0.0 in labels with no predicted samples. Use `zero_division` parameter to control this behavior.\n",
      "  _warn_prf(average, modifier, msg_start, len(result))\n"
     ]
    }
   ],
   "source": [
    "from sklearn.metrics import f1_score, jaccard_score, precision_score, recall_score\n",
    "\n",
    "# Calculate weighted F1 score, weighted Jaccard coefficient, weighted precision, and weighted recall using binary predictions\n",
    "f1_weighted = f1_score(y_test_binary, y_pred_binary, average='weighted')\n",
    "jaccard_weighted = jaccard_score(y_test_binary, y_pred_binary, average='weighted')\n",
    "precision_weighted = precision_score(y_test_binary, y_pred_binary, average='weighted')\n",
    "recall_weighted = recall_score(y_test_binary, y_pred_binary, average='weighted')\n",
    "\n",
    "print('Weighted F1 Score:', f1_weighted)\n",
    "print('Weighted Jaccard Coefficient:', jaccard_weighted)\n",
    "print('Weighted Precision:', precision_weighted)\n",
    "print('Weighted Recall:', recall_weighted)\n"
   ]
  },
  {
   "cell_type": "code",
   "execution_count": 38,
   "id": "T5zRRfbkE_jh",
   "metadata": {
    "id": "T5zRRfbkE_jh"
   },
   "outputs": [],
   "source": [
    "metrics_scores = {\n",
    "    \"Weighted F1 Score\": 0.4078190860185285,\n",
    "    \"Weighted Jaccard Coefficient\": 0.2733131289252182,\n",
    "    \"Accuracy\": 0.49665552377700806,\n",
    "    \"Weighted Precision\": 0.5679025996720752,\n",
    "    \"Weighted Recall\": 0.3511705685618729\n",
    "}\n",
    "model_name=\"LSTM with TextVectorization \""
   ]
  },
  {
   "cell_type": "code",
   "execution_count": 39,
   "id": "K9WhNNeep-UZ",
   "metadata": {
    "colab": {
     "base_uri": "https://localhost:8080/",
     "height": 607
    },
    "id": "K9WhNNeep-UZ",
    "outputId": "82fcddcc-a239-4c82-a0a0-00d072dc3d7f"
   },
   "outputs": [
    {
     "data": {
      "image/png": "[encoded data removed]",
      "text/plain": [
       "<Figure size 1000x600 with 1 Axes>"
      ]
     },
     "metadata": {},
     "output_type": "display_data"
    }
   ],
   "source": [
    "plot_metrics_scores(model_name, metrics_scores)"
   ]
  }
 ],
 "metadata": {
  "accelerator": "GPU",
  "colab": {
   "collapsed_sections": [
    "2zL2spbDZmaY",
    "G1G0aW2tg4IU",
    "fv2RzISBvWk6",
    "Q1LZEgkm8FBj",
    "9RiLCLrU1wj9",
    "C157JvTbcG8c"
   ],
   "provenance": []
  },
  "kernelspec": {
   "display_name": "Python 3 (ipykernel)",
   "language": "python",
   "name": "python3"
  },
  "language_info": {
   "codemirror_mode": {
    "name": "ipython",
    "version": 3
   },
   "file_extension": ".py",
   "mimetype": "text/x-python",
   "name": "python",
   "nbconvert_exporter": "python",
   "pygments_lexer": "ipython3",
   "version": "3.9.7"
  }
 },
 "nbformat": 4,
 "nbformat_minor": 5
}
